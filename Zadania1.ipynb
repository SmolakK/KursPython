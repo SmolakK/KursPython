{
 "cells": [
  {
   "cell_type": "markdown",
   "metadata": {},
   "source": [
    "Zad 1. Sprawdź czy Python uwzględnia kolejność działań"
   ]
  },
  {
   "cell_type": "markdown",
   "metadata": {},
   "source": [
    "Zad 2.\n",
    "\n",
    "<b> Zdefiniuj zmienne: </b>\n",
    "<ul>\n",
    "    <li> a - liczbową zmiennoprzecinkową </li>\n",
    "    <li> b - liczbową całkowitą </li>\n",
    "    <li> c - tekstową </li>\n",
    "    <li> d - tekstową </li>\n",
    "<ul>\n",
    "\n",
    "\n",
    "Zbadaj wyniki działań, określ typ zmiennej wyjściowej:\n",
    "<ul>\n",
    "    <li> a + b </li>\n",
    "    <li> a / b </li>\n",
    "    <li> b / a </li>\n",
    "    <li> c + d </li>\n",
    "    <li> a % b </li>\n",
    "    <li> c / d </li>\n",
    "    <li> d + b </li>\n",
    "<ul>"
   ]
  },
  {
   "cell_type": "markdown",
   "metadata": {},
   "source": [
    "Zad 3. Stwórz pętlę która narysuje drzewko jak poniżej (wysokość = 15 linijek):"
   ]
  },
  {
   "cell_type": "code",
   "execution_count": 2,
   "metadata": {},
   "outputs": [
    {
     "name": "stdout",
     "output_type": "stream",
     "text": [
      " xxxxxxxxxxxxxxxxxxxxxxxxxxxxxx\n",
      "  xxxxxxxxxxxxxxxxxxxxxxxxxxxx\n",
      "   xxxxxxxxxxxxxxxxxxxxxxxxxx\n",
      "    xxxxxxxxxxxxxxxxxxxxxxxx\n",
      "     xxxxxxxxxxxxxxxxxxxxxx\n",
      "      xxxxxxxxxxxxxxxxxxxx\n",
      "       xxxxxxxxxxxxxxxxxx\n",
      "        xxxxxxxxxxxxxxxx\n",
      "         xxxxxxxxxxxxxx\n",
      "          xxxxxxxxxxxx\n",
      "           xxxxxxxxxx\n",
      "            xxxxxxxx\n",
      "             xxxxxx\n",
      "              xxxx\n",
      "               xx\n"
     ]
    }
   ],
   "source": []
  },
  {
   "cell_type": "markdown",
   "metadata": {},
   "source": [
    "Zad 4. Stwórz słownik z cenami produktów sklepu {'masło': 3.39, 'ser': 8.99, 'jajka': 4.99,' wino': 12.99, 'piwo': 3.99}. Następnie:\n",
    "\n",
    "<ul>\n",
    "    <li>Dodaj nowy produkt do słownika</li>\n",
    "    <li>Zmień cenę jednego z produktów na większą o 50%</li>\n",
    "    <li>Policz średnie ceny w słowniku</li>\n",
    "    <li>Stwórz listę (dokładnie Pythonową listę) z zakupami: masło, ser, jajka, 2 x piwo i pieczarki. Następnie wykorzystując słownik i stworzoną listę policz koszt zakupów. Wyświetl ją.</li>\n",
    "</ul>"
   ]
  },
  {
   "cell_type": "markdown",
   "metadata": {},
   "source": [
    "Zad 5. Napisz funkcję, która oblicza silnię danej liczby. Wykorzystaj rekurencyjność funkcji."
   ]
  },
  {
   "cell_type": "markdown",
   "metadata": {},
   "source": [
    "Zad 6. Napisz funkcję, która z dwóch list wybiera tylko elementy identyczne w obu."
   ]
  },
  {
   "cell_type": "markdown",
   "metadata": {},
   "source": [
    "Zad 7. Napisz program gry w \"krowy i byki\". Gra polega na tym, że program losuje losowo 4 cyfrową liczbę (biblioteka random - sprawdź dokumentację) i pyta użytkownika o zgadnięcie tej cyfry. Dla każdej liczby zgadniętej w poprawnym miejscu dostaje \"krowę\", a kazdą dobra liczbę ale w złym miejscu dostaje \"byka\". Funkcja powinna zwracać informację ile byków i krów dostał i pozwalać na ponowne zgadywanie."
   ]
  },
  {
   "cell_type": "code",
   "execution_count": null,
   "metadata": {},
   "outputs": [],
   "source": []
  }
 ],
 "metadata": {
  "kernelspec": {
   "display_name": "Python 3",
   "language": "python",
   "name": "python3"
  },
  "language_info": {
   "codemirror_mode": {
    "name": "ipython",
    "version": 3
   },
   "file_extension": ".py",
   "mimetype": "text/x-python",
   "name": "python",
   "nbconvert_exporter": "python",
   "pygments_lexer": "ipython3",
   "version": "3.7.1"
  }
 },
 "nbformat": 4,
 "nbformat_minor": 2
}

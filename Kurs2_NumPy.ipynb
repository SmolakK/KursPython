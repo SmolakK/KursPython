{
 "cells": [
  {
   "cell_type": "markdown",
   "metadata": {},
   "source": [
    "# Macierze\n",
    "\n",
    "---\n",
    "\n",
    "Język python sam w sobie nie obsługuje działania na macierzach dlatego korzystamy ze specjalnej biblioteki numpy, której zadaniem jest przygotowanie pythona do operacji na \"macierzach\".\n",
    "\n",
    "Pakiet numpy jest używany w większości analiz numerycznych w Pythonie. To pakiet zawierający wydajne środowisko do pracy nawektorach, macierzach i strukturach wielowymiarowych. Biblioteka została zaimplementowana w języku C oraz Fortranie co sprzyja szybkości działania algorytmów."
   ]
  },
  {
   "cell_type": "code",
   "execution_count": 1,
   "metadata": {},
   "outputs": [],
   "source": [
    "# stwórzmy macierz"
   ]
  },
  {
   "cell_type": "markdown",
   "metadata": {},
   "source": [
    "## Po co mi macierze przecież są typy sekwencyjne ?"
   ]
  },
  {
   "cell_type": "markdown",
   "metadata": {},
   "source": [
    "- Lista w Pythonie jest bardzo ogólna, może zawierać obiekty dowolnego typu, sa dynamicznie typowane\n",
    "- Listy nie posiadają metod matematycznych i algebraicznych\n",
    "- Macierze są jednolite\n",
    "- Macierze są efektywne (szczególnie na pamięci i operacji numerycznych)\n",
    "- Implementacja operacji w C i Fortranie przyspiesza pracę"
   ]
  },
  {
   "cell_type": "markdown",
   "metadata": {},
   "source": [
    "## Co gdyby macierzy nie było ?"
   ]
  },
  {
   "cell_type": "code",
   "execution_count": 2,
   "metadata": {},
   "outputs": [],
   "source": [
    "import numpy as np"
   ]
  },
  {
   "cell_type": "code",
   "execution_count": 3,
   "metadata": {},
   "outputs": [],
   "source": [
    "sizeL = 100000\n",
    "L = range(sizeL)\n",
    "Lnp = np.arange(sizeL)"
   ]
  },
  {
   "cell_type": "code",
   "execution_count": 4,
   "metadata": {},
   "outputs": [],
   "source": [
    "# oblicz czas obliczenia kwadratu każdej liczby"
   ]
  },
  {
   "cell_type": "code",
   "execution_count": null,
   "metadata": {},
   "outputs": [],
   "source": []
  },
  {
   "cell_type": "markdown",
   "metadata": {},
   "source": [
    "## Tworzenie macierzy"
   ]
  },
  {
   "cell_type": "markdown",
   "metadata": {},
   "source": [
    "Istnieje kilka opcji na tworzenie/inicjalizowanie macierzy"
   ]
  },
  {
   "cell_type": "code",
   "execution_count": 5,
   "metadata": {},
   "outputs": [],
   "source": [
    "x1d = np.array([0,1,2,3]) #1D\n",
    "x2d = np.array([[0,1,2],[0,1,2]]) #2Db"
   ]
  },
  {
   "cell_type": "code",
   "execution_count": 6,
   "metadata": {},
   "outputs": [],
   "source": [
    "# Najczęstszy błąd"
   ]
  },
  {
   "cell_type": "code",
   "execution_count": 7,
   "metadata": {},
   "outputs": [
    {
     "data": {
      "text/plain": [
       "(numpy.ndarray, numpy.ndarray)"
      ]
     },
     "execution_count": 7,
     "metadata": {},
     "output_type": "execute_result"
    }
   ],
   "source": [
    "type(x1d), type(x2d)"
   ]
  },
  {
   "cell_type": "code",
   "execution_count": 8,
   "metadata": {},
   "outputs": [
    {
     "data": {
      "text/plain": [
       "((4L,), (2L, 3L))"
      ]
     },
     "execution_count": 8,
     "metadata": {},
     "output_type": "execute_result"
    }
   ],
   "source": [
    "x1d.shape, x2d.shape # Wektor 1D a Macierz 2D"
   ]
  },
  {
   "cell_type": "code",
   "execution_count": 9,
   "metadata": {
    "scrolled": true
   },
   "outputs": [
    {
     "data": {
      "text/plain": [
       "(4, 6)"
      ]
     },
     "execution_count": 9,
     "metadata": {},
     "output_type": "execute_result"
    }
   ],
   "source": [
    "x1d.size, x2d.size"
   ]
  },
  {
   "cell_type": "code",
   "execution_count": 10,
   "metadata": {},
   "outputs": [
    {
     "data": {
      "text/plain": [
       "(1, 2)"
      ]
     },
     "execution_count": 10,
     "metadata": {},
     "output_type": "execute_result"
    }
   ],
   "source": [
    "x1d.ndim, x2d.ndim"
   ]
  },
  {
   "cell_type": "markdown",
   "metadata": {},
   "source": [
    "## List czy Tuple ?"
   ]
  },
  {
   "cell_type": "code",
   "execution_count": 11,
   "metadata": {},
   "outputs": [
    {
     "name": "stdout",
     "output_type": "stream",
     "text": [
      "[[1 2 3]\n",
      " [4 5 6]]\n",
      "[[1 2 3]\n",
      " [4 5 6]]\n"
     ]
    }
   ],
   "source": [
    "x = np.array([[1,2,3],[4,5,6]])\n",
    "print(x)\n",
    "x = np.array(((1,2,3),(4,5,6)))\n",
    "print(x)"
   ]
  },
  {
   "cell_type": "markdown",
   "metadata": {},
   "source": [
    "## Funkcje tworzące macierze"
   ]
  },
  {
   "cell_type": "code",
   "execution_count": 12,
   "metadata": {},
   "outputs": [],
   "source": [
    "# arange(start,end,step)"
   ]
  },
  {
   "cell_type": "code",
   "execution_count": 13,
   "metadata": {},
   "outputs": [],
   "source": [
    "# linspace(start,end,number of points)"
   ]
  },
  {
   "cell_type": "code",
   "execution_count": 14,
   "metadata": {},
   "outputs": [],
   "source": [
    "# ones, zeros, eye, diag, empty"
   ]
  },
  {
   "cell_type": "markdown",
   "metadata": {},
   "source": [
    "## Losowe"
   ]
  },
  {
   "cell_type": "code",
   "execution_count": 15,
   "metadata": {},
   "outputs": [
    {
     "name": "stdout",
     "output_type": "stream",
     "text": [
      "[ 0.27211529  0.0463711   0.70005175  0.03099633]\n",
      "[-1.00330215  0.96413828 -0.00494227 -0.25479982]\n"
     ]
    }
   ],
   "source": [
    "print(np.random.rand(4)) # [0,1]\n",
    "print(np.random.randn(4)) # Gaussian"
   ]
  },
  {
   "cell_type": "code",
   "execution_count": 16,
   "metadata": {},
   "outputs": [
    {
     "name": "stdout",
     "output_type": "stream",
     "text": [
      "[ 38.35786521  15.9083772   38.56970238  40.25716078  63.66961794\n",
      "  32.20881358  16.21819599   8.77198276  60.88480086   3.86713002]\n"
     ]
    }
   ],
   "source": [
    "# Stwórz macierz z 10 liczbami losowymi od 0 do 66\n",
    "print(np.random.rand(10)*66)"
   ]
  },
  {
   "cell_type": "code",
   "execution_count": 17,
   "metadata": {
    "scrolled": true
   },
   "outputs": [
    {
     "data": {
      "text/plain": [
       "array([[ 0.,  0.,  0.,  0.,  0.],\n",
       "       [ 0.,  0.,  0.,  0.,  0.],\n",
       "       [ 0.,  0.,  0.,  0.,  0.],\n",
       "       [ 0.,  0.,  0.,  0.,  0.],\n",
       "       [ 0.,  0.,  0.,  0.,  0.]])"
      ]
     },
     "execution_count": 17,
     "metadata": {},
     "output_type": "execute_result"
    }
   ],
   "source": [
    "np.zeros([5,5])"
   ]
  },
  {
   "cell_type": "markdown",
   "metadata": {},
   "source": [
    "## Typy danych wewnątrz macierzy"
   ]
  },
  {
   "cell_type": "code",
   "execution_count": 18,
   "metadata": {
    "scrolled": true
   },
   "outputs": [
    {
     "name": "stdout",
     "output_type": "stream",
     "text": [
      "int32\n",
      "float64\n"
     ]
    }
   ],
   "source": [
    "print(np.array([1,2,3]).dtype)\n",
    "print(np.array([1.1,2.,3.9]).dtype)"
   ]
  },
  {
   "cell_type": "code",
   "execution_count": 19,
   "metadata": {},
   "outputs": [
    {
     "name": "stdout",
     "output_type": "stream",
     "text": [
      "float64\n"
     ]
    }
   ],
   "source": [
    "print(np.array([1,2,3], dtype=float).dtype)"
   ]
  },
  {
   "cell_type": "code",
   "execution_count": 20,
   "metadata": {
    "scrolled": true
   },
   "outputs": [
    {
     "name": "stdout",
     "output_type": "stream",
     "text": [
      "float64\n"
     ]
    }
   ],
   "source": [
    "print(np.ones(5).dtype) # Domyślny typ danych"
   ]
  },
  {
   "cell_type": "code",
   "execution_count": 21,
   "metadata": {
    "scrolled": true
   },
   "outputs": [
    {
     "name": "stdout",
     "output_type": "stream",
     "text": [
      "bool\n"
     ]
    }
   ],
   "source": [
    "print(np.array([True, False, False, True]).dtype)"
   ]
  },
  {
   "cell_type": "code",
   "execution_count": 22,
   "metadata": {},
   "outputs": [],
   "source": [
    "# Czy w macierzy możemy przechowywać tekst ? jaki typ wewnętrzny danych uzyskamy ?"
   ]
  },
  {
   "cell_type": "code",
   "execution_count": 23,
   "metadata": {},
   "outputs": [],
   "source": [
    "# co gdy wprowadzimy różne typy ?"
   ]
  },
  {
   "cell_type": "markdown",
   "metadata": {},
   "source": [
    "## Indeksy i przycinanie\n",
    "* Indexing and slicing (indeksowanie i krajanie na plastry(Google translate)/ziomki na plastry/plasterkowanie)"
   ]
  },
  {
   "cell_type": "markdown",
   "metadata": {},
   "source": [
    "Indeksowanie i przynacie macierzy odbywa się w ten sam sposób co w przyupadku prostych typów sekwencyjnych"
   ]
  },
  {
   "cell_type": "code",
   "execution_count": 25,
   "metadata": {},
   "outputs": [
    {
     "name": "stdout",
     "output_type": "stream",
     "text": [
      "[0 1 2 3 4 5 6 7 8 9]\n",
      "0\n",
      "[9 8 7 6 5 4 3 2 1 0]\n",
      "[2 4]\n"
     ]
    }
   ],
   "source": [
    "a = np.arange(10)\n",
    "print(a)\n",
    "print(a[0])\n",
    "print(a[::-1]) # odwrotnie\n",
    "print(a[2:6:2]) # od 2 do 6 ze skokiem 2"
   ]
  },
  {
   "cell_type": "code",
   "execution_count": 27,
   "metadata": {},
   "outputs": [
    {
     "name": "stdout",
     "output_type": "stream",
     "text": [
      "[[ 0.76  0.21  0.19]\n",
      " [ 0.47  0.34  0.52]\n",
      " [ 0.82  0.68  0.84]]\n",
      "0.338898655053\n",
      "[ 0.47  0.34  0.52]\n",
      "[ 0.76  0.47  0.82]\n"
     ]
    }
   ],
   "source": [
    "np.set_printoptions(precision=2)\n",
    "\n",
    "a=np.random.rand(3,3)\n",
    "print(a)\n",
    "print(a[(1,1)]) # trzy sposoby\n",
    "print(a[1]) # sam wiersz\n",
    "print(a[:,0]) # sama kolumna"
   ]
  },
  {
   "cell_type": "markdown",
   "metadata": {},
   "source": [
    "![fig](http://scipy-lectures.org/_images/numpy_indexing.png)"
   ]
  },
  {
   "cell_type": "markdown",
   "metadata": {},
   "source": [
    "### Zadania na indexy\n",
    "* Stwórz macierz 10 na 10 w środku 0 na zewnątrz 1 (2 linijki)\n",
    "* Stwórz macierz 8 na 8 wypełniając ją naprzemiennie 1 i 0 (szachownica)"
   ]
  },
  {
   "cell_type": "code",
   "execution_count": null,
   "metadata": {},
   "outputs": [],
   "source": []
  },
  {
   "cell_type": "code",
   "execution_count": null,
   "metadata": {},
   "outputs": [],
   "source": []
  },
  {
   "cell_type": "markdown",
   "metadata": {},
   "source": [
    "## Kopie i widoki"
   ]
  },
  {
   "cell_type": "markdown",
   "metadata": {},
   "source": [
    "Operacja wycinania (slicing) tworzy widok macierzy a nie nową macierz"
   ]
  },
  {
   "cell_type": "code",
   "execution_count": 33,
   "metadata": {},
   "outputs": [
    {
     "name": "stdout",
     "output_type": "stream",
     "text": [
      "('Macierz a', array([[ 1.,  1.,  1.,  1.,  1.,  1.,  1.,  1.,  1.,  1.],\n",
      "       [ 1.,  1.,  1.,  1.,  1.,  1.,  1.,  1.,  1.,  1.],\n",
      "       [ 1.,  1.,  1.,  1.,  1.,  1.,  1.,  1.,  1.,  1.],\n",
      "       [ 1.,  1.,  1.,  1.,  1.,  1.,  1.,  1.,  1.,  1.],\n",
      "       [ 1.,  1.,  1.,  1.,  1.,  1.,  1.,  1.,  1.,  1.],\n",
      "       [ 1.,  1.,  1.,  1.,  1.,  1.,  1.,  1.,  1.,  1.],\n",
      "       [ 1.,  1.,  1.,  1.,  1.,  1.,  1.,  1.,  1.,  1.],\n",
      "       [ 1.,  1.,  1.,  1.,  1.,  1.,  1.,  1.,  1.,  1.],\n",
      "       [ 1.,  1.,  1.,  1.,  1.,  1.,  1.,  1.,  1.,  1.],\n",
      "       [ 1.,  1.,  1.,  1.,  1.,  1.,  1.,  1.,  1.,  1.]]))\n",
      "---\n",
      "('Wycinek b', array([[ 1.,  1.,  1.,  1.,  1.,  1.,  1.,  1.,  1.,  1.],\n",
      "       [ 1.,  1.,  1.,  1.,  1.,  1.,  1.,  1.,  1.,  1.]]))\n",
      "---\n",
      "('Wycinek b zmodyfikowany', array([[ 12.,  12.,  12.,  12.,  12.,  12.,  12.,  12.,  12.,  12.],\n",
      "       [ 12.,  12.,  12.,  12.,  12.,  12.,  12.,  12.,  12.,  12.]]))\n",
      "---\n",
      "('Macierz A', array([[  1.,   1.,   1.,   1.,   1.,   1.,   1.,   1.,   1.,   1.],\n",
      "       [ 12.,  12.,  12.,  12.,  12.,  12.,  12.,  12.,  12.,  12.],\n",
      "       [  1.,   1.,   1.,   1.,   1.,   1.,   1.,   1.,   1.,   1.],\n",
      "       [ 12.,  12.,  12.,  12.,  12.,  12.,  12.,  12.,  12.,  12.],\n",
      "       [  1.,   1.,   1.,   1.,   1.,   1.,   1.,   1.,   1.,   1.],\n",
      "       [  1.,   1.,   1.,   1.,   1.,   1.,   1.,   1.,   1.,   1.],\n",
      "       [  1.,   1.,   1.,   1.,   1.,   1.,   1.,   1.,   1.,   1.],\n",
      "       [  1.,   1.,   1.,   1.,   1.,   1.,   1.,   1.,   1.,   1.],\n",
      "       [  1.,   1.,   1.,   1.,   1.,   1.,   1.,   1.,   1.,   1.],\n",
      "       [  1.,   1.,   1.,   1.,   1.,   1.,   1.,   1.,   1.,   1.]]))\n",
      "---\n"
     ]
    }
   ],
   "source": [
    "a = np.ones((10,10))\n",
    "\n",
    "print('Macierz a',a)\n",
    "print('---')\n",
    "\n",
    "b = a[1:4:2,:] # Wycinek macierzy tworzy wyłącznie widok tej macierzy, a nie nową macierz\n",
    "\n",
    "print('Wycinek b',b)\n",
    "print('---')\n",
    "b[:]=12\n",
    "\n",
    "print('Wycinek b zmodyfikowany',b)\n",
    "print('---')\n",
    "print('Macierz A',a)\n",
    "print('---')\n",
    "\n",
    "# Dzieje się tak tylko w przypadku widoku"
   ]
  },
  {
   "cell_type": "code",
   "execution_count": 60,
   "metadata": {
    "scrolled": true
   },
   "outputs": [
    {
     "name": "stdout",
     "output_type": "stream",
     "text": [
      "[[ 1.  1.  1.  1.  1.  1.  1.  1.  1.  1.]\n",
      " [ 1.  1.  1.  1.  1.  1.  1.  1.  1.  1.]]\n",
      "---\n",
      "[[ 12.  12.  12.  12.  12.  12.  12.  12.  12.  12.]\n",
      " [ 12.  12.  12.  12.  12.  12.  12.  12.  12.  12.]]\n",
      "---\n",
      "[[ 1.  1.  1.  1.  1.  1.  1.  1.  1.  1.]\n",
      " [ 1.  1.  1.  1.  1.  1.  1.  1.  1.  1.]\n",
      " [ 1.  1.  1.  1.  1.  1.  1.  1.  1.  1.]\n",
      " [ 1.  1.  1.  1.  1.  1.  1.  1.  1.  1.]\n",
      " [ 1.  1.  1.  1.  1.  1.  1.  1.  1.  1.]\n",
      " [ 1.  1.  1.  1.  1.  1.  1.  1.  1.  1.]\n",
      " [ 1.  1.  1.  1.  1.  1.  1.  1.  1.  1.]\n",
      " [ 1.  1.  1.  1.  1.  1.  1.  1.  1.  1.]\n",
      " [ 1.  1.  1.  1.  1.  1.  1.  1.  1.  1.]\n",
      " [ 1.  1.  1.  1.  1.  1.  1.  1.  1.  1.]]\n",
      "---\n"
     ]
    }
   ],
   "source": [
    "a = np.ones((10,10))\n",
    "\n",
    "b = a[1:4:2,:].copy() # jeżeli nie chce tworzyć odniesienia do macierzy źródłowej używamy metody copy\n",
    "\n",
    "print(b)\n",
    "print('---')\n",
    "b[:]=12\n",
    "\n",
    "print(b)\n",
    "print('---')\n",
    "print(a)\n",
    "print('---')\n",
    "\n",
    "# Dzieje się tak tylko"
   ]
  },
  {
   "cell_type": "markdown",
   "metadata": {},
   "source": [
    "## Zmyślne indexowanie (fancy indexing)"
   ]
  },
  {
   "cell_type": "code",
   "execution_count": 34,
   "metadata": {
    "scrolled": true
   },
   "outputs": [
    {
     "name": "stdout",
     "output_type": "stream",
     "text": [
      "[11 14  2  9 13 14  3  0  3 19 12 11  1  4  3]\n",
      "---\n",
      "[False False False  True False False  True  True  True False  True False\n",
      " False False  True]\n",
      "---\n",
      "[ 9  3  0  3 12  3]\n"
     ]
    }
   ],
   "source": [
    "a = np.random.randint(0, 21, 15)\n",
    "print(a)\n",
    "print('---')\n",
    "mask = (a%3 == 0)\n",
    "print(mask)\n",
    "print('---')\n",
    "extract_from_a = a[mask] # albo bezpośrednio a[a%3==0]\n",
    "print(extract_from_a) # Zamiast indexu użylismy maski zawierającej wartości True/False"
   ]
  },
  {
   "cell_type": "markdown",
   "metadata": {},
   "source": [
    "### Zadanie\n",
    "Przypisz każdej liczbie w macierzy a większej od 10 wartość -1"
   ]
  },
  {
   "cell_type": "code",
   "execution_count": 38,
   "metadata": {},
   "outputs": [
    {
     "name": "stdout",
     "output_type": "stream",
     "text": [
      "[ 5 15 14  1 14  6 11 14  5  3  9  3  8  7  4]\n",
      "[ 5 -1 -1  1 -1  6 -1 -1  5  3  9  3  8  7  4]\n"
     ]
    }
   ],
   "source": [
    "a = np.random.randint(0, 21, 15)\n",
    "print(a)\n",
    "a[a>10]=-1\n",
    "print(a)"
   ]
  },
  {
   "cell_type": "markdown",
   "metadata": {},
   "source": [
    "Możemy również podać zbiór \"współrzędnych\" elementó maceirzy tkóre chcemy wyciągnąć"
   ]
  },
  {
   "cell_type": "markdown",
   "metadata": {},
   "source": [
    "![fig2](http://scipy-lectures.org/_images/numpy_fancy_indexing.png)"
   ]
  },
  {
   "cell_type": "markdown",
   "metadata": {},
   "source": [
    "## Operacje na macierzach"
   ]
  },
  {
   "cell_type": "code",
   "execution_count": 41,
   "metadata": {},
   "outputs": [
    {
     "name": "stdout",
     "output_type": "stream",
     "text": [
      "[ 1.  2.  3.  4.]\n"
     ]
    }
   ],
   "source": [
    "a = np.array([1,2,3,4.0])\n",
    "print(a)"
   ]
  },
  {
   "cell_type": "code",
   "execution_count": 40,
   "metadata": {
    "scrolled": false
   },
   "outputs": [
    {
     "name": "stdout",
     "output_type": "stream",
     "text": [
      "[ 3.  4.  5.  6.]\n",
      "[  1.   4.   9.  16.]\n"
     ]
    }
   ],
   "source": [
    "print(a+2) #suma\n",
    "print(a**2) #kwadrat"
   ]
  },
  {
   "cell_type": "code",
   "execution_count": 43,
   "metadata": {},
   "outputs": [
    {
     "name": "stdout",
     "output_type": "stream",
     "text": [
      "[-1.1 -2.4 -4.  -9. ]\n"
     ]
    }
   ],
   "source": [
    "a = np.array([1,2,3,4.0])\n",
    "b = np.array([0.1,0.4,1,5])\n",
    "np.add(a,b,out=a) # parametr out\n",
    "np.negative(a,out=a)\n",
    "print(a)\n",
    "# add, subtract, divide, negative, multiply"
   ]
  },
  {
   "cell_type": "code",
   "execution_count": 49,
   "metadata": {},
   "outputs": [
    {
     "name": "stdout",
     "output_type": "stream",
     "text": [
      "[[ 1.  1.  1.]\n",
      " [ 1.  1.  1.]]\n",
      "[[ 0.71  0.86  0.83]\n",
      " [ 0.5   0.22  0.91]]\n"
     ]
    }
   ],
   "source": [
    "a = np.ones((2,3)) #dtype\n",
    "b = np.random.random((2,3))\n",
    "print(a)\n",
    "print(b)"
   ]
  },
  {
   "cell_type": "code",
   "execution_count": 50,
   "metadata": {},
   "outputs": [
    {
     "name": "stdout",
     "output_type": "stream",
     "text": [
      "[[ 1.71  1.86  1.83]\n",
      " [ 1.5   1.22  1.91]]\n"
     ]
    }
   ],
   "source": [
    "b+=a\n",
    "print(b)"
   ]
  },
  {
   "cell_type": "code",
   "execution_count": 47,
   "metadata": {},
   "outputs": [
    {
     "name": "stdout",
     "output_type": "stream",
     "text": [
      "[[ 1.73  1.71  1.56]\n",
      " [ 1.41  1.4   1.05]]\n"
     ]
    }
   ],
   "source": [
    "a+=b\n",
    "print(a)"
   ]
  },
  {
   "cell_type": "markdown",
   "metadata": {},
   "source": [
    "### Array multiplication in not matrix multiplication"
   ]
  },
  {
   "cell_type": "code",
   "execution_count": 51,
   "metadata": {},
   "outputs": [
    {
     "data": {
      "text/plain": [
       "array([[ 1.71,  1.86,  1.83],\n",
       "       [ 1.5 ,  1.22,  1.91]])"
      ]
     },
     "execution_count": 51,
     "metadata": {},
     "output_type": "execute_result"
    }
   ],
   "source": [
    "a*b"
   ]
  },
  {
   "cell_type": "code",
   "execution_count": 53,
   "metadata": {
    "scrolled": true
   },
   "outputs": [
    {
     "data": {
      "text/plain": [
       "array([[ 5.4 ,  4.63],\n",
       "       [ 5.4 ,  4.63]])"
      ]
     },
     "execution_count": 53,
     "metadata": {},
     "output_type": "execute_result"
    }
   ],
   "source": [
    "a.dot(b.T)"
   ]
  },
  {
   "cell_type": "code",
   "execution_count": null,
   "metadata": {},
   "outputs": [],
   "source": []
  },
  {
   "cell_type": "markdown",
   "metadata": {},
   "source": [
    "## Funkcje"
   ]
  },
  {
   "cell_type": "code",
   "execution_count": 55,
   "metadata": {},
   "outputs": [
    {
     "name": "stdout",
     "output_type": "stream",
     "text": [
      "[0 1 2 3 4]\n",
      "[ 0.    0.84  0.91  0.14 -0.76]\n",
      "[ -inf  0.    0.69  1.1   1.39]\n",
      "[  1.     2.72   7.39  20.09  54.6 ]\n",
      "[0 1 2 3 4]\n",
      "[ 0.    0.32  0.79  1.25  1.57]\n"
     ]
    },
    {
     "name": "stderr",
     "output_type": "stream",
     "text": [
      "C:\\ProgramData\\Anaconda2\\lib\\site-packages\\ipykernel_launcher.py:4: RuntimeWarning: divide by zero encountered in log\n",
      "  after removing the cwd from sys.path.\n"
     ]
    }
   ],
   "source": [
    "a = np.arange(5)\n",
    "print(a)\n",
    "print(np.sin(a))\n",
    "print(np.log(a))\n",
    "print(np.exp(a))\n",
    "print(np.abs(a))\n",
    "print(np.arctan2(a,a[::-1]))"
   ]
  },
  {
   "cell_type": "markdown",
   "metadata": {},
   "source": [
    "## Transpozycja, odwrotność, wyznacznik"
   ]
  },
  {
   "cell_type": "code",
   "execution_count": 65,
   "metadata": {
    "scrolled": true
   },
   "outputs": [
    {
     "name": "stdout",
     "output_type": "stream",
     "text": [
      "[[0 3 2]\n",
      " [9 0 2]\n",
      " [8 0 7]]\n",
      "[[0 9 8]\n",
      " [3 0 0]\n",
      " [2 2 7]]\n"
     ]
    }
   ],
   "source": [
    "a=np.random.randint(0,10,(3,3))\n",
    "b = a.transpose()\n",
    "b = a.T # to samo \n",
    "print(a)\n",
    "print(b)"
   ]
  },
  {
   "cell_type": "code",
   "execution_count": null,
   "metadata": {},
   "outputs": [],
   "source": [
    "# Czy transpozycja jest osobnym obiektem ?"
   ]
  },
  {
   "cell_type": "code",
   "execution_count": 64,
   "metadata": {
    "scrolled": true
   },
   "outputs": [
    {
     "name": "stdout",
     "output_type": "stream",
     "text": [
      "[[ 0.12 -0.04  0.12]\n",
      " [ 0.21  0.1  -0.29]\n",
      " [-0.23  0.08  0.1 ]]\n",
      "156.0\n"
     ]
    }
   ],
   "source": [
    "print(np.linalg.inv(a))\n",
    "print(np.linalg.det(a))"
   ]
  },
  {
   "cell_type": "code",
   "execution_count": 70,
   "metadata": {},
   "outputs": [
    {
     "name": "stdout",
     "output_type": "stream",
     "text": [
      "[0 1 2 8 9]\n"
     ]
    }
   ],
   "source": [
    "print(np.unique(a))"
   ]
  },
  {
   "cell_type": "code",
   "execution_count": 78,
   "metadata": {},
   "outputs": [
    {
     "name": "stdout",
     "output_type": "stream",
     "text": [
      "[[1 1]\n",
      " [2 2]]\n"
     ]
    }
   ],
   "source": [
    "x = np.array([[1,1],[2,2]])\n",
    "print(x)"
   ]
  },
  {
   "cell_type": "code",
   "execution_count": 82,
   "metadata": {},
   "outputs": [
    {
     "name": "stdout",
     "output_type": "stream",
     "text": [
      "()\n",
      "()\n",
      "()\n",
      "()\n",
      "()\n",
      "()\n"
     ]
    }
   ],
   "source": [
    "#Funkcje mogą być wykorzystywane jako metody obiektu 'array' lub funkcje pakiety numpy\n",
    "print() # sum\n",
    "print() # min\n",
    "print() # mean\n",
    "print() # std\n",
    "print() # median\n",
    "print() # cumsum"
   ]
  },
  {
   "cell_type": "markdown",
   "metadata": {},
   "source": [
    "## Parametr 'axis'"
   ]
  },
  {
   "cell_type": "markdown",
   "metadata": {},
   "source": [
    "![fig3](http://scipy-lectures.org/_images/reductions.png)"
   ]
  },
  {
   "cell_type": "code",
   "execution_count": 75,
   "metadata": {
    "scrolled": true
   },
   "outputs": [
    {
     "data": {
      "text/plain": [
       "array([2, 4])"
      ]
     },
     "execution_count": 75,
     "metadata": {},
     "output_type": "execute_result"
    }
   ],
   "source": [
    "x.sum(axis=1)"
   ]
  },
  {
   "cell_type": "markdown",
   "metadata": {},
   "source": [
    "## Find index of the value"
   ]
  },
  {
   "cell_type": "code",
   "execution_count": 83,
   "metadata": {},
   "outputs": [
    {
     "data": {
      "text/plain": [
       "0"
      ]
     },
     "execution_count": 83,
     "metadata": {},
     "output_type": "execute_result"
    }
   ],
   "source": [
    "x.argmin()"
   ]
  },
  {
   "cell_type": "code",
   "execution_count": 100,
   "metadata": {},
   "outputs": [],
   "source": [
    "idx = np.argwhere(x>1)"
   ]
  },
  {
   "cell_type": "code",
   "execution_count": 102,
   "metadata": {},
   "outputs": [
    {
     "name": "stdout",
     "output_type": "stream",
     "text": [
      "[[1 0]\n",
      " [1 1]]\n"
     ]
    }
   ],
   "source": [
    "print(idx)"
   ]
  },
  {
   "cell_type": "markdown",
   "metadata": {},
   "source": [
    "## Logical operations"
   ]
  },
  {
   "cell_type": "code",
   "execution_count": 101,
   "metadata": {
    "scrolled": true
   },
   "outputs": [
    {
     "name": "stdout",
     "output_type": "stream",
     "text": [
      "False\n",
      "True\n",
      "False\n",
      "True\n"
     ]
    }
   ],
   "source": [
    "a = np.zeros((100,100))\n",
    "\n",
    "print(np.any(a!=0))\n",
    "print(np.all(a==0))\n",
    "\n",
    "print((a != 0).any())\n",
    "print((a == 0).all())"
   ]
  },
  {
   "cell_type": "code",
   "execution_count": 79,
   "metadata": {},
   "outputs": [
    {
     "name": "stdout",
     "output_type": "stream",
     "text": [
      "(array([1, 2, 3, 2]), array([2, 2, 3, 2]), array([6, 4, 4, 5]))\n"
     ]
    }
   ],
   "source": [
    "a = np.array([1, 2, 3, 2])\n",
    "b = np.array([2, 2, 3, 2])\n",
    "c = np.array([6, 4, 4, 5])\n",
    "\n",
    "print(a,b,c)\n",
    "\n",
    "# print(((a <= b) & (b <= c)).all())"
   ]
  },
  {
   "cell_type": "markdown",
   "metadata": {},
   "source": [
    "## Broadcasting (przewidywanie)"
   ]
  },
  {
   "cell_type": "markdown",
   "metadata": {},
   "source": [
    "![fig4](http://scipy-lectures.org/_images/numpy_broadcasting.png)"
   ]
  },
  {
   "cell_type": "code",
   "execution_count": 80,
   "metadata": {
    "scrolled": true
   },
   "outputs": [
    {
     "name": "stdout",
     "output_type": "stream",
     "text": [
      "[[ 0  0  0]\n",
      " [10 10 10]\n",
      " [20 20 20]\n",
      " [30 30 30]]\n",
      "[[0 1 2]\n",
      " [0 1 2]\n",
      " [0 1 2]\n",
      " [0 1 2]]\n",
      "[[0 1 2]]\n",
      "[[ 0]\n",
      " [10]\n",
      " [20]\n",
      " [30]]\n"
     ]
    }
   ],
   "source": [
    "a = np.array([[ 0,  0,  0],[10,10,10],[20,20,20],[30,30,30]])\n",
    "b = np.array([[ 0,  1,  2],[ 0,  1,  2],[ 0,  1,  2],[ 0,  1,  2]])\n",
    "c = np.array([0,1,2]).reshape(1,-1)\n",
    "d = np.array([0,10,20,30]).reshape(-1,1)\n",
    "print(a)\n",
    "print(b)\n",
    "print(c)\n",
    "print(d)"
   ]
  },
  {
   "cell_type": "code",
   "execution_count": 81,
   "metadata": {
    "scrolled": true
   },
   "outputs": [
    {
     "name": "stdout",
     "output_type": "stream",
     "text": [
      "[[ 0  1  2]\n",
      " [10 11 12]\n",
      " [20 21 22]\n",
      " [30 31 32]]\n",
      "[[ 0  1  2]\n",
      " [10 11 12]\n",
      " [20 21 22]\n",
      " [30 31 32]]\n",
      "[[ 0  1  2]\n",
      " [10 11 12]\n",
      " [20 21 22]\n",
      " [30 31 32]]\n"
     ]
    }
   ],
   "source": [
    "print(a+b)\n",
    "print(a+c)\n",
    "print(c+d)"
   ]
  },
  {
   "cell_type": "markdown",
   "metadata": {},
   "source": [
    "## Manipulacja rozmiarem macierzy"
   ]
  },
  {
   "cell_type": "code",
   "execution_count": 154,
   "metadata": {},
   "outputs": [],
   "source": [
    "a = np.array([[1, 2, 3], [4, 5, 6]])"
   ]
  },
  {
   "cell_type": "code",
   "execution_count": 83,
   "metadata": {
    "scrolled": true
   },
   "outputs": [
    {
     "name": "stdout",
     "output_type": "stream",
     "text": [
      "[[1 2 3]\n",
      " [4 5 6]]\n",
      "[1 2 3 4 5 6]\n",
      "[[1 2 3]\n",
      " [4 5 6]]\n"
     ]
    }
   ],
   "source": [
    "print(a)\n",
    "print(a.ravel()) #spłaszczenie\n",
    "print(a.ravel().reshape((2,3)))"
   ]
  },
  {
   "cell_type": "code",
   "execution_count": 103,
   "metadata": {
    "scrolled": true
   },
   "outputs": [
    {
     "name": "stdout",
     "output_type": "stream",
     "text": [
      "[[ 0  1  2  3  4  5  6  7  8  9]\n",
      " [10 11 12 13 14 15 16 17 18 19]\n",
      " [20 21 22 23 24 25 26 27 28 29]\n",
      " [30 31 32 33 34 35 36 37 38 39]\n",
      " [40 41 42 43 44 45 46 47 48 49]\n",
      " [50 51 52 53 54 55 56 57 58 59]\n",
      " [60 61 62 63 64 65 66 67 68 69]\n",
      " [70 71 72 73 74 75 76 77 78 79]\n",
      " [80 81 82 83 84 85 86 87 88 89]\n",
      " [90 91 92 93 94 95 96 97 98 99]]\n"
     ]
    }
   ],
   "source": [
    "a = np.arange(100)\n",
    "a.shape = #\n",
    "print(a)"
   ]
  },
  {
   "cell_type": "code",
   "execution_count": 162,
   "metadata": {},
   "outputs": [
    {
     "name": "stdout",
     "output_type": "stream",
     "text": [
      "[[ 0  1  2  3  4  5  6  7  8  9]\n",
      " [10 11 12 13 14 15 16 17 18 19]\n",
      " [20 21 22 23 24 25 26 27 28 29]\n",
      " [30 31 32 33 34 35 36 37 38 39]\n",
      " [40 41 42 43 44 45 46 47 48 49]\n",
      " [50 51 52 53 54 55 56 57 58 59]\n",
      " [60 61 62 63 64 65 66 67 68 69]\n",
      " [70 71 72 73 74 75 76 77 78 79]\n",
      " [80 81 82 83 84 85 86 87 88 89]\n",
      " [90 91 92 93 94 95 96 97 98 99]]\n"
     ]
    }
   ],
   "source": [
    "a = np.arange(100).reshape(10,-1)\n",
    "print(a)"
   ]
  },
  {
   "cell_type": "markdown",
   "metadata": {},
   "source": [
    "## Łączenie macierzy"
   ]
  },
  {
   "cell_type": "code",
   "execution_count": 104,
   "metadata": {},
   "outputs": [],
   "source": [
    "a = np.array([[1, 2], [3, 4]])"
   ]
  },
  {
   "cell_type": "code",
   "execution_count": 105,
   "metadata": {
    "scrolled": true
   },
   "outputs": [
    {
     "data": {
      "text/plain": [
       "(array([[1, 2],\n",
       "        [3, 4]]),\n",
       " array([1, 1, 1, 2, 2, 2, 3, 3, 3, 4, 4, 4]),\n",
       " (2L, 2L),\n",
       " (12L,))"
      ]
     },
     "execution_count": 105,
     "metadata": {},
     "output_type": "execute_result"
    }
   ],
   "source": [
    "b = np.repeat(a,3)\n",
    "a,b,np.shape(a),np.shape(b)"
   ]
  },
  {
   "cell_type": "code",
   "execution_count": 95,
   "metadata": {},
   "outputs": [
    {
     "data": {
      "text/plain": [
       "array([[1, 2, 1, 2, 1, 2],\n",
       "       [3, 4, 3, 4, 3, 4]])"
      ]
     },
     "execution_count": 95,
     "metadata": {},
     "output_type": "execute_result"
    }
   ],
   "source": [
    "np.tile(a,3)"
   ]
  },
  {
   "cell_type": "code",
   "execution_count": 97,
   "metadata": {},
   "outputs": [],
   "source": [
    "b = np.array([[5, 6]])"
   ]
  },
  {
   "cell_type": "code",
   "execution_count": 100,
   "metadata": {},
   "outputs": [],
   "source": [
    "# concatenate\n",
    "# hstack i vstack"
   ]
  },
  {
   "cell_type": "markdown",
   "metadata": {},
   "source": [
    "## Iteracje po macierzach\n",
    "UNIKAĆ ! MUSISZ MIEĆ DOBRY POWÓD !"
   ]
  },
  {
   "cell_type": "code",
   "execution_count": 132,
   "metadata": {},
   "outputs": [
    {
     "name": "stdout",
     "output_type": "stream",
     "text": [
      "[0 1 2 3]\n",
      "[4 5 6 7]\n",
      "[ 8  9 10 11]\n"
     ]
    }
   ],
   "source": [
    "b = np.arange(12).reshape(3,4)\n",
    "for row in b:\n",
    "    print row"
   ]
  },
  {
   "cell_type": "code",
   "execution_count": 145,
   "metadata": {},
   "outputs": [
    {
     "name": "stdout",
     "output_type": "stream",
     "text": [
      "2\n",
      "4\n",
      "16\n",
      "256\n",
      "65536\n",
      "0\n",
      "0\n",
      "0\n",
      "0\n",
      "0\n",
      "0\n",
      "0\n",
      "[[   1    2    4    8]\n",
      " [  16   32   64  128]\n",
      " [ 256  512 1024 2048]]\n"
     ]
    }
   ],
   "source": [
    "for row in b:\n",
    "    for element in row:\n",
    "        element = 2**element\n",
    "        print(element)\n",
    "\n",
    "print(b)"
   ]
  },
  {
   "cell_type": "code",
   "execution_count": 144,
   "metadata": {
    "scrolled": true
   },
   "outputs": [
    {
     "name": "stdout",
     "output_type": "stream",
     "text": [
      "[[   1    2    4    8]\n",
      " [  16   32   64  128]\n",
      " [ 256  512 1024 2048]]\n"
     ]
    }
   ],
   "source": [
    "for (i,j), element in np.ndenumerate(b):\n",
    "    b[i,j] = 2**element\n",
    "print(b)"
   ]
  },
  {
   "cell_type": "markdown",
   "metadata": {},
   "source": [
    "## Wczytywanie danych z pliku"
   ]
  },
  {
   "cell_type": "code",
   "execution_count": 147,
   "metadata": {},
   "outputs": [],
   "source": [
    "# np.loadtxt() # Szybkie i ubogie w funkcje\n",
    "# np.genfromtxt() # Wolniejsze za to pozwala na więcej"
   ]
  },
  {
   "cell_type": "code",
   "execution_count": 152,
   "metadata": {},
   "outputs": [],
   "source": [
    "from StringIO import StringIO\n",
    "\n",
    "data_str = '''0.0 0.0\n",
    "1.0 1.0\n",
    "2.0 2.0\n",
    "3.0 3.0\n",
    "4.0 4.0\n",
    "2.3 1.1\n",
    "1.2 3.5\n",
    "3.1 0.2\n",
    "'''\n",
    "\n",
    "data = np.genfromtxt(StringIO(data_str))"
   ]
  },
  {
   "cell_type": "markdown",
   "metadata": {},
   "source": [
    "### Przykład - wpasowanie funkcji liniowej w zbiór punktów metodą najmniejszych kwadratów\n",
    "---"
   ]
  },
  {
   "cell_type": "code",
   "execution_count": 109,
   "metadata": {
    "scrolled": true
   },
   "outputs": [
    {
     "name": "stdout",
     "output_type": "stream",
     "text": [
      "[[ 0.   0. ]\n",
      " [ 1.   1. ]\n",
      " [ 2.   2. ]\n",
      " [ 3.   3. ]\n",
      " [ 4.   4. ]\n",
      " [ 2.3  1.1]\n",
      " [ 1.2  3.5]\n",
      " [ 3.1  0.2]]\n",
      "(8L, 2L)\n",
      "(8L,)\n",
      "[ 0.69  0.56]\n"
     ]
    }
   ],
   "source": [
    "import numpy as np\n",
    "from StringIO import StringIO\n",
    "\n",
    "data = np.loadtxt('punkty.txt')\n",
    "\n",
    "print data\n",
    "\n",
    "size_data = len(data)\n",
    "\n",
    "A = np.hstack((np.ones([size_data,1]),data[:,0].reshape(-1,1)))     \n",
    "\n",
    "l = data[:,1]\n",
    "\n",
    "print A.shape\n",
    "print l.shape\n",
    "\n",
    "x = np.dot(np.linalg.inv(np.dot(A.T,A)),np.dot(A.T,l))\n",
    "\n",
    "print x"
   ]
  },
  {
   "cell_type": "markdown",
   "metadata": {},
   "source": [
    "## Inny przykład\n",
    "http://hpiers.obspm.fr/eoppc/eop/eopc04/eopc04.19"
   ]
  },
  {
   "cell_type": "code",
   "execution_count": null,
   "metadata": {},
   "outputs": [],
   "source": []
  }
 ],
 "metadata": {
  "kernelspec": {
   "display_name": "Python 2",
   "language": "python",
   "name": "python2"
  },
  "language_info": {
   "codemirror_mode": {
    "name": "ipython",
    "version": 2
   },
   "file_extension": ".py",
   "mimetype": "text/x-python",
   "name": "python",
   "nbconvert_exporter": "python",
   "pygments_lexer": "ipython2",
   "version": "2.7.14"
  }
 },
 "nbformat": 4,
 "nbformat_minor": 2
}

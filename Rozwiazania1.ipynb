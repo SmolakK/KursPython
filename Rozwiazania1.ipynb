{
 "cells": [
  {
   "cell_type": "code",
   "execution_count": 4,
   "metadata": {},
   "outputs": [
    {
     "data": {
      "text/plain": [
       "6"
      ]
     },
     "execution_count": 4,
     "metadata": {},
     "output_type": "execute_result"
    }
   ],
   "source": [
    "#Zad 1.\n",
    "2+2*2 #powinno być 6"
   ]
  },
  {
   "cell_type": "code",
   "execution_count": 5,
   "metadata": {},
   "outputs": [],
   "source": [
    "#Zad 2.\n",
    "a = 3.14\n",
    "b = 3\n",
    "c = \"3\"\n",
    "d = '4'"
   ]
  },
  {
   "cell_type": "code",
   "execution_count": 6,
   "metadata": {},
   "outputs": [
    {
     "data": {
      "text/plain": [
       "6.140000000000001"
      ]
     },
     "execution_count": 6,
     "metadata": {},
     "output_type": "execute_result"
    }
   ],
   "source": [
    "a+b"
   ]
  },
  {
   "cell_type": "code",
   "execution_count": 7,
   "metadata": {},
   "outputs": [
    {
     "data": {
      "text/plain": [
       "1.0466666666666666"
      ]
     },
     "execution_count": 7,
     "metadata": {},
     "output_type": "execute_result"
    }
   ],
   "source": [
    "a/b"
   ]
  },
  {
   "cell_type": "code",
   "execution_count": 8,
   "metadata": {},
   "outputs": [
    {
     "data": {
      "text/plain": [
       "0.9554140127388535"
      ]
     },
     "execution_count": 8,
     "metadata": {},
     "output_type": "execute_result"
    }
   ],
   "source": [
    "b/a"
   ]
  },
  {
   "cell_type": "code",
   "execution_count": 9,
   "metadata": {},
   "outputs": [
    {
     "data": {
      "text/plain": [
       "'34'"
      ]
     },
     "execution_count": 9,
     "metadata": {},
     "output_type": "execute_result"
    }
   ],
   "source": [
    "c+d"
   ]
  },
  {
   "cell_type": "code",
   "execution_count": 10,
   "metadata": {},
   "outputs": [
    {
     "data": {
      "text/plain": [
       "0.14000000000000012"
      ]
     },
     "execution_count": 10,
     "metadata": {},
     "output_type": "execute_result"
    }
   ],
   "source": [
    "a%b"
   ]
  },
  {
   "cell_type": "code",
   "execution_count": 11,
   "metadata": {},
   "outputs": [
    {
     "ename": "TypeError",
     "evalue": "unsupported operand type(s) for /: 'str' and 'str'",
     "output_type": "error",
     "traceback": [
      "\u001b[1;31m---------------------------------------------------------------------------\u001b[0m",
      "\u001b[1;31mTypeError\u001b[0m                                 Traceback (most recent call last)",
      "\u001b[1;32m<ipython-input-11-93570be632b6>\u001b[0m in \u001b[0;36m<module>\u001b[1;34m\u001b[0m\n\u001b[1;32m----> 1\u001b[1;33m \u001b[0mc\u001b[0m\u001b[1;33m/\u001b[0m\u001b[0md\u001b[0m\u001b[1;33m\u001b[0m\u001b[1;33m\u001b[0m\u001b[0m\n\u001b[0m",
      "\u001b[1;31mTypeError\u001b[0m: unsupported operand type(s) for /: 'str' and 'str'"
     ]
    }
   ],
   "source": [
    "c/d"
   ]
  },
  {
   "cell_type": "code",
   "execution_count": 12,
   "metadata": {},
   "outputs": [
    {
     "ename": "TypeError",
     "evalue": "must be str, not int",
     "output_type": "error",
     "traceback": [
      "\u001b[1;31m---------------------------------------------------------------------------\u001b[0m",
      "\u001b[1;31mTypeError\u001b[0m                                 Traceback (most recent call last)",
      "\u001b[1;32m<ipython-input-12-b5d553da1e20>\u001b[0m in \u001b[0;36m<module>\u001b[1;34m\u001b[0m\n\u001b[1;32m----> 1\u001b[1;33m \u001b[0md\u001b[0m\u001b[1;33m+\u001b[0m\u001b[0mb\u001b[0m\u001b[1;33m\u001b[0m\u001b[1;33m\u001b[0m\u001b[0m\n\u001b[0m",
      "\u001b[1;31mTypeError\u001b[0m: must be str, not int"
     ]
    }
   ],
   "source": [
    "d+b"
   ]
  },
  {
   "cell_type": "code",
   "execution_count": 39,
   "metadata": {},
   "outputs": [
    {
     "name": "stdout",
     "output_type": "stream",
     "text": [
      " xxxxxxxxxxxxxxxxxxxxxxxxxxxxxx\n",
      "  xxxxxxxxxxxxxxxxxxxxxxxxxxxx\n",
      "   xxxxxxxxxxxxxxxxxxxxxxxxxx\n",
      "    xxxxxxxxxxxxxxxxxxxxxxxx\n",
      "     xxxxxxxxxxxxxxxxxxxxxx\n",
      "      xxxxxxxxxxxxxxxxxxxx\n",
      "       xxxxxxxxxxxxxxxxxx\n",
      "        xxxxxxxxxxxxxxxx\n",
      "         xxxxxxxxxxxxxx\n",
      "          xxxxxxxxxxxx\n",
      "           xxxxxxxxxx\n",
      "            xxxxxxxx\n",
      "             xxxxxx\n",
      "              xxxx\n",
      "               xx\n"
     ]
    }
   ],
   "source": [
    "#Zad 3.\n",
    "zakres = 16\n",
    "for licznik in range(1,zakres):\n",
    "    print(licznik*' ' + (zakres-licznik)*2*'x')"
   ]
  },
  {
   "cell_type": "code",
   "execution_count": 41,
   "metadata": {},
   "outputs": [],
   "source": [
    "#Zad 4.\n",
    "zakupy =  {'masło': 3.39, 'ser': 8.99, 'jajka': 4.99,' wino': 12.99, 'piwo': 3.99}"
   ]
  },
  {
   "cell_type": "code",
   "execution_count": 44,
   "metadata": {},
   "outputs": [
    {
     "data": {
      "text/plain": [
       "{'masło': 3.39,\n",
       " 'ser': 8.99,\n",
       " 'jajka': 4.99,\n",
       " ' wino': 12.99,\n",
       " 'piwo': 3.99,\n",
       " 'drób': 4.44}"
      ]
     },
     "execution_count": 44,
     "metadata": {},
     "output_type": "execute_result"
    }
   ],
   "source": [
    "#4.1\n",
    "zakupy['drób'] = 4.44\n",
    "zakupy"
   ]
  },
  {
   "cell_type": "code",
   "execution_count": 45,
   "metadata": {},
   "outputs": [
    {
     "data": {
      "text/plain": [
       "{'masło': 5.085,\n",
       " 'ser': 8.99,\n",
       " 'jajka': 4.99,\n",
       " ' wino': 12.99,\n",
       " 'piwo': 3.99,\n",
       " 'drób': 4.44}"
      ]
     },
     "execution_count": 45,
     "metadata": {},
     "output_type": "execute_result"
    }
   ],
   "source": [
    "#4.2\n",
    "zakupy['masło'] = zakupy['masło'] * 1.5\n",
    "zakupy"
   ]
  },
  {
   "cell_type": "code",
   "execution_count": 49,
   "metadata": {},
   "outputs": [
    {
     "data": {
      "text/plain": [
       "[5.085, 8.99, 4.99, 12.99, 3.99, 4.44]"
      ]
     },
     "execution_count": 49,
     "metadata": {},
     "output_type": "execute_result"
    }
   ],
   "source": [
    "#4.3\n",
    "ceny = [cena for cena in zakupy.values()]\n",
    "ceny"
   ]
  },
  {
   "cell_type": "code",
   "execution_count": 51,
   "metadata": {},
   "outputs": [
    {
     "data": {
      "text/plain": [
       "6.7475"
      ]
     },
     "execution_count": 51,
     "metadata": {},
     "output_type": "execute_result"
    }
   ],
   "source": [
    "avg = sum(ceny)/len(ceny)\n",
    "avg"
   ]
  },
  {
   "cell_type": "code",
   "execution_count": 52,
   "metadata": {},
   "outputs": [
    {
     "data": {
      "text/plain": [
       "27.045"
      ]
     },
     "execution_count": 52,
     "metadata": {},
     "output_type": "execute_result"
    }
   ],
   "source": [
    "#4.4\n",
    "moje_zakupy = ['masło','ser','jajka','piwo','piwo','pieczarki']\n",
    "ogolny_koszt = 0\n",
    "\n",
    "for zakup in moje_zakupy:\n",
    "    if zakup in zakupy.keys():\n",
    "        ogolny_koszt += zakupy[zakup]\n",
    "ogolny_koszt"
   ]
  },
  {
   "cell_type": "code",
   "execution_count": 71,
   "metadata": {},
   "outputs": [
    {
     "data": {
      "text/plain": [
       "720"
      ]
     },
     "execution_count": 71,
     "metadata": {},
     "output_type": "execute_result"
    }
   ],
   "source": [
    "#Zad 5.\n",
    "def silnia(liczba):\n",
    "    if liczba == 0: return 1\n",
    "    elif liczba == 1: return 1\n",
    "    elif liczba == 2: return 2\n",
    "    else: return liczba*silnia(liczba-1)\n",
    "\n",
    "silnia(6)"
   ]
  },
  {
   "cell_type": "code",
   "execution_count": 76,
   "metadata": {},
   "outputs": [
    {
     "name": "stdout",
     "output_type": "stream",
     "text": [
      "{1, 99, 5, 8, 23}\n",
      "[1, 5, 8, 23, 99]\n"
     ]
    }
   ],
   "source": [
    "#Zad 6.\n",
    "lista1 = [1,2,3,4,5,8,23,44,77,99]\n",
    "lista2 = [1,5,8,11,23,66,88,99]\n",
    "#Rozwiazanie 1:\n",
    "print(set(lista1).intersection(set(lista2)))\n",
    "#Rozwiazanie 2:\n",
    "rozwiazanie = []\n",
    "for element in lista1:\n",
    "    if element in lista2:\n",
    "        rozwiazanie.append(element)\n",
    "print(rozwiazanie)"
   ]
  },
  {
   "cell_type": "code",
   "execution_count": 4,
   "metadata": {},
   "outputs": [
    {
     "name": "stdout",
     "output_type": "stream",
     "text": [
      "Zgadnij liczbę!1234\n",
      "Krów: 2 Byków: 2\n",
      " Próbuj dalej!\n",
      "Zostało Ci 9 prób.\n",
      "Zgadnij liczbę!1289\n",
      "Krów: 1 Byków: 2\n",
      " Próbuj dalej!\n",
      "Zostało Ci 8 prób.\n",
      "Zgadnij liczbę!1438\n",
      "Krów: 2 Byków: 2\n",
      " Próbuj dalej!\n",
      "Zostało Ci 7 prób.\n",
      "Zgadnij liczbę!1434\n",
      "Krów: 1 Byków: 1\n",
      " Próbuj dalej!\n",
      "Zostało Ci 6 prób.\n",
      "Zgadnij liczbę!1430\n",
      "Krów: 1 Byków: 1\n",
      " Próbuj dalej!\n",
      "Zostało Ci 5 prób.\n",
      "Zgadnij liczbę!1344\n",
      "Krów: 0 Byków: 1\n",
      " Próbuj dalej!\n",
      "Zostało Ci 4 prób.\n",
      "Zgadnij liczbę!1200\n",
      "Krów: 1 Byków: 1\n",
      " Próbuj dalej!\n",
      "Zostało Ci 3 prób.\n",
      "Zgadnij liczbę!1388\n",
      "Krów: 1 Byków: 2\n",
      " Próbuj dalej!\n",
      "Zostało Ci 2 prób.\n",
      "Zgadnij liczbę!1234\n",
      "Krów: 2 Byków: 2\n",
      " Próbuj dalej!\n",
      "Zostało Ci 1 prób.\n",
      "Zgadnij liczbę!8434\n",
      "Krów: 1 Byków: 2\n",
      " Próbuj dalej!\n",
      "Niestety, przegrałeś! Ta liczba to: 5238\n"
     ]
    }
   ],
   "source": [
    "#Zad 7\n",
    "import random\n",
    "losowa = str(random.randint(1000,9999)) #losowanie liczby\n",
    "loser = True\n",
    "\n",
    "proba_nr = 0\n",
    "\n",
    "while loser:\n",
    "    cows = 0 #Krowy - na 0\n",
    "    bulls = 0 #Byki - na 0\n",
    "    user_guess = input(\"Zgadnij liczbę!\") #Prośba o typ\n",
    "    list_zip = [a for a in zip(losowa,user_guess)] #Połączenie obu liczb, cyfra po cyfrze\n",
    "    for los,zgad in list_zip: #Iteracja przez złączenie\n",
    "        if los == zgad: #Jeśli obie cyfry w złączeniu są równe\n",
    "            cows += 1 #dodaj do cows 1\n",
    "    if cows == 4: #jeśli cows = 4, wygrałeś!\n",
    "        print(\"Wygrałeś! Ta liczba to: \" + str(losowa))\n",
    "        loser = False\n",
    "    for zgad in set(user_guess): #Dla UNIKALNEJ każdej cyfry w typie\n",
    "        if zgad in losowa: #Sprawdź, czy jest ona w wylosowanej liczbie\n",
    "            bulls += 1 #Jeśli jest, dodaj do byków 1\n",
    "    \n",
    "    print(\"Krów: \" + str(cows) + \" Byków: \" + str(bulls) + '\\n Próbuj dalej!') #Wyświelt ile jest byków i krów\n",
    "    proba_nr += 1\n",
    "    if proba_nr == 10:\n",
    "        print(\"Niestety, przegrałeś! Ta liczba to: \" + str(losowa))\n",
    "        break\n",
    "    print(\"Zostało Ci \" + str(10-proba_nr) + \" prób.\")\n",
    "    "
   ]
  },
  {
   "cell_type": "code",
   "execution_count": null,
   "metadata": {},
   "outputs": [],
   "source": []
  }
 ],
 "metadata": {
  "kernelspec": {
   "display_name": "Python 3",
   "language": "python",
   "name": "python3"
  },
  "language_info": {
   "codemirror_mode": {
    "name": "ipython",
    "version": 3
   },
   "file_extension": ".py",
   "mimetype": "text/x-python",
   "name": "python",
   "nbconvert_exporter": "python",
   "pygments_lexer": "ipython3",
   "version": "3.6.7"
  }
 },
 "nbformat": 4,
 "nbformat_minor": 2
}

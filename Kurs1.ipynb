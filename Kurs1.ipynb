{
 "cells": [
  {
   "cell_type": "markdown",
   "metadata": {},
   "source": [
    "<h2>O Pythonie</h2>\n",
    "\n",
    " <img src=\"https://upload.wikimedia.org/wikipedia/commons/thumb/f/f8/Python_logo_and_wordmark.svg/240px-Python_logo_and_wordmark.svg.png\"> \n",
    " \n",
    "Python to język programowania <b>wysokiego poziomu</b>. Python jest również językiem programowania <b> obiektowego </b>. To jeden z wielu dostępnych języków, w którym można nauczyć się programowania. Każdy ma swoje wady i zalety, jak również swoje szczególne przeznaczenie."
   ]
  },
  {
   "cell_type": "markdown",
   "metadata": {},
   "source": [
    "<h1>Literatura</h1>\n",
    "    <ul>\n",
    "    <li>A. B. Downey, J. Elkner, C. Meyers, “Think Python. How to Think Like a Computer Scientist”: http://www.greenteapress.com/thinkpython/</li>\n",
    "    <li>Matthes E., \"Python Crash Course: A Hands-On, Project-Based Introduction to Programming\"</li>\n",
    "    <li>Kurs: https://www.codecademy.com/learn/learn-python</li>\n",
    "    <li>dokumentacja: https://www.python.org/</li>\n",
    "    </ul>\n",
    "    "
   ]
  },
  {
   "cell_type": "markdown",
   "metadata": {},
   "source": [
    "<h1>Przygotowanie środowiska</h1>\n",
    "\n",
    "Mac i UNIX: w większości dystrybucji MacOS i Unix Python jest już zainstalowany na komputerze. Nadal należy przygotować środowisko.\n",
    "\n",
    "Windows: Należy przygotowac środowisko łącznie z instalacją języka oprogramowania.\n",
    "\n",
    "Najlepszym wyborem jest wszystko-w-jednym jest Anaconda https://www.anaconda.com/, która instaluje język Python wraz z najpotrzebniejszymi bibliotekami\n",
    "\n",
    "Pobieramy Anacondę dla wersji <b>2 lub 3</b>"
   ]
  },
  {
   "cell_type": "markdown",
   "metadata": {},
   "source": [
    "<ol>\n",
    "    <li>Instalujemy ją z pliku .exe</li>\n",
    "    <li><b>Zaznaczamy \"Add Anaconda to the system PATH environment variable\"</b></li>\n",
    "    <li>Wybieramy \"Install\"</li>\n",
    "    <li>Po instalacji uruchamiamy Anaconda Prompt (konsola) lub Anaconda Navigator (graficzny)</li>\n",
    "</ol>\n",
    "\n",
    "Od teraz Pythnon dostępny jest na komputerze. Możemy go wywołać uruchamiając konsolę i wpisując \"python\" i uruchamiając jego tryb <b>interaktywny</b>. W tym trybie można wykonywać operacje na bieżąco, nie można natomiast pisać programu/skryptu. Do tego potrzebne jest nam środowisko programistyczne.\n"
   ]
  },
  {
   "cell_type": "markdown",
   "metadata": {},
   "source": [
    "<h1>Co to jest IDE?</h1>\n",
    "\n",
    "Integrated Development Environment to środowisko programistyczne, które służy do tworzenia, modyfikowania i testowania oprogramowania/ kodu źródłowego. Wiele firm oferuje różne środowiska, zarówno darmowe, jak również zaawanosowane płatne wersje.\n",
    "\n",
    "IDE umozliwia między innymi:\n",
    "<ul>\n",
    "    <li>Szybką i wygodną edycję kodu</li>\n",
    "    <li>Debugowanie kodu (śledzenie wartości zmiennych, zatrzymywanie kodu w dowolnym miejscu)</li>\n",
    "    <li>Podpowiedzi nazw funkcji i zmiennych</li>\n",
    "    <li>Dynamiczne sprawdzanie składni</li>\n",
    "</ul>\n",
    "\n",
    "Python domyślnie instaluje proste środowisko <b>IDLE</b>, które nie ma zbyt wielu funkcjonalności.\n",
    "\n",
    "Anaconda domyślnie instaluje środowisko <b>Spyder</b>, które jest jednym z lepszych środowisk IDE\n",
    "\n",
    "<img src=\"https://www.marsja.se/wp-content/uploads/2016/01/Spyder_object_inspetor.png.png\">"
   ]
  },
  {
   "cell_type": "markdown",
   "metadata": {},
   "source": [
    "<h1>Jupyter Notebook</h1>\n",
    "\n",
    "Typ IDE, który pozwala na bieżącą edycję kodu w formie następujących linijek i jednocześnie wyświetlania poniżej ich wyników, wykresów i tabel w naprzemiennej formie kod->wynik. Jest bardzo dobrym narzędziem do testowania funkcjonalności bibliotek i nauki. Pozwala na szybką edycję kodu i wyświetlenie wyniku, <b> bez potrzeby kompilacji całego kodu ponownie </b>. Jest uruchamiany w przeglądarce internetowej.\n",
    "\n",
    "<img src=\"http://i.imgur.com/100MtXR.png\" width=700>\n",
    "\n",
    "Jupyter Notebook posiada duże możliwości prezentacji kodu <b>Cała ta prezentacja jest wykonana w Jupyter Notebook z dodatkiem RISE.</b>"
   ]
  },
  {
   "cell_type": "markdown",
   "metadata": {},
   "source": [
    "Aby uruchomić Jupyter Notebook wybieramy \"Launch\" w Anaconda Navigator lub wpsiujemy jupyter-notebook w Anaconda Prompt"
   ]
  },
  {
   "cell_type": "markdown",
   "metadata": {},
   "source": [
    "START!\n",
    "\n",
    "Zaczynamy kodować w Pythonie.\n",
    "\n",
    "Klasycznie pierwszą linijką, nie inaczej musi być polecenie wyświetlające tekst \"Hello World!\"\n"
   ]
  },
  {
   "cell_type": "code",
   "execution_count": 3,
   "metadata": {},
   "outputs": [
    {
     "name": "stdout",
     "output_type": "stream",
     "text": [
      "Hello World!\n"
     ]
    }
   ],
   "source": [
    "print(\"Hello World!\")"
   ]
  },
  {
   "cell_type": "markdown",
   "metadata": {},
   "source": [
    "<h1>Funkcje vs. Metody</h1>\n",
    "\n",
    "Właśnie wykorzystaliśmy <b>funkcję</b> wyświetlania \"print\". Python oferuje również metody. Czym się one różnią?\n",
    "\n",
    "<img src=\"https://d2h0cx97tjks2p.cloudfront.net/blogs/wp-content/uploads/sites/2/2018/02/Python-Functions-vs-Methods-01-1024x536.jpg\">"
   ]
  },
  {
   "cell_type": "markdown",
   "metadata": {},
   "source": [
    "<h1>Funkcje</h1>\n",
    "\n",
    "Funcje mają strukturę (syntax) następującej postaci:\n",
    "\n",
    "<i><b>nazwa</b>(parametr_1,parametr_2,...,parametr_n)</i>\n",
    "\n",
    "Wyróżniamy <b>funkcje wbudowane</b> i <b> funkcje zdefiniowane przez użytkownika</b>.\n",
    "\n",
    "Funkcje wbudowane są dostepne poprzez wywołanie ich nazwy wprost w kodzie (dostępne tu: https://docs.python.org/2/library/functions.html). Przykładem takiej funkcji jest <b>print()</b>\n",
    "\n",
    "Funkcje definiowane przez użytkownika pozwalają na utworzenie nowej funkcjonalności (zajmiemy się nimi później)"
   ]
  },
  {
   "cell_type": "markdown",
   "metadata": {},
   "source": [
    "<h1> Metody </h1>\n",
    "\n",
    "Python jest językiem programowania <b> obiektowego </b>. Oznacza to, że wszystko w nim jest <b>obiektem</b>, który ma swoje właściwości, takie jak atrybuty i metody (o tym dokładniej w dalszej części wykładów).\n",
    "\n",
    "Metody wywoływane są zatem na <b>obiektach</b>. Ich syntax to:\n",
    "<i><b>nazwa_obiektu</b>.nazwa_metody(parametr_1,parametr_2,...,parametr_n)</i>\n",
    "\n",
    "Istnieje w języku kilka wbudowanych obiektów, które posiadają wbudowane metody. Przykładem wbudowanych obiektów są typy danych."
   ]
  },
  {
   "cell_type": "markdown",
   "metadata": {},
   "source": [
    "<h1>Klasy</h1>\n",
    "Żeby zrozumieć istotę działania metod i ich różność od funkcji, przyjrzyjmy się czym jest obiekt.\n",
    "\n",
    "Obiekt to <b>wszystko</b> co napiszemy w Pythonie. To zarówno klasy jak i funkcje.\n",
    "\n",
    "Spotkamy się z metodami przypisanymi do klas. Klasa to bardzo ważny element języków obiektowych.\n"
   ]
  },
  {
   "cell_type": "markdown",
   "metadata": {},
   "source": [
    "<h2>Czym zatem jest klasa?</h2>\n",
    "\n",
    "<b>Klasa</b> to <i>abstrakcja</i> pewnego obiektu. Oznacza to uogólnieniony opis pewnego elementu, który zdefiniowany jest przez taką klasę poprzez określenie jego typowych <b>cech (atrybutów) i operacji (metod), które można na nim wykonać</b>. Tą samą strukturą opisujemy elementy świata rzeczywistego.\n",
    "    \n",
    "Przykład obrazujący:\n",
    "\n",
    "<b>Pies</b> to abstrakcyjna klasa, którą opisujemy podgatunek zwierzącia.\n",
    "Ma cechy (atrybuty):\n",
    "<ul>\n",
    "    <li>Kolor sierści</li>\n",
    "    <li>Waga</li>\n",
    "    <li>Imie</li>\n",
    "</ul>\n",
    "\n",
    "Oraz metody:\n",
    "<ul>\n",
    "    <li>Jedz</li>\n",
    "    <li>Siad</li>\n",
    "    <li>Waruj</li>\n",
    "</ul>"
   ]
  },
  {
   "cell_type": "markdown",
   "metadata": {},
   "source": [
    "<h1>Instancja</h1>\n",
    "\n",
    "To praktyczna realizacja klasy.\n",
    "\n",
    "Kontynuując przykład obrazujący:\n",
    "\n",
    "Adoptując psa nadajemy mu atrybuty - imie (Bobby) i opisujemy jego cechy (sierść brązowa, waga 6kg). Wtedy otrzymujemy <b> instancję</b> klasy pies w postaci <i>Bobby</i>.\n",
    "\n",
    "Teraz możemy wywołać metodę na naszej instancji, która zdefiniowana już jest w klasie:\n",
    "\n",
    "pies.waruj()"
   ]
  },
  {
   "cell_type": "code",
   "execution_count": 11,
   "metadata": {},
   "outputs": [
    {
     "data": {
      "text/html": [
       "<img src=\"01-uml-base-class-and-object-explained.png\"/>"
      ],
      "text/plain": [
       "<IPython.core.display.Image object>"
      ]
     },
     "execution_count": 11,
     "metadata": {},
     "output_type": "execute_result"
    }
   ],
   "source": [
    "from IPython.display import Image\n",
    "Image(url = \"01-uml-base-class-and-object-explained.png\")"
   ]
  },
  {
   "cell_type": "markdown",
   "metadata": {},
   "source": [
    "Wracając zatem do metod i funkcji.\n",
    "\n",
    "print() to funkcja"
   ]
  },
  {
   "cell_type": "code",
   "execution_count": 12,
   "metadata": {},
   "outputs": [
    {
     "data": {
      "text/plain": [
       "'PIES'"
      ]
     },
     "execution_count": 12,
     "metadata": {},
     "output_type": "execute_result"
    }
   ],
   "source": [
    "a = \"pies\"\n",
    "a.upper() #a to metoda klasy"
   ]
  },
  {
   "cell_type": "markdown",
   "metadata": {},
   "source": [
    " Proste typy danych\n",
    "\n",
    "Liczby\n",
    "\n",
    "    całkowite (int)\n",
    "    zmiennoprzecinkowe (float)\n",
    "    złożone (complex)\n"
   ]
  },
  {
   "cell_type": "code",
   "execution_count": 13,
   "metadata": {},
   "outputs": [
    {
     "data": {
      "text/plain": [
       "int"
      ]
     },
     "execution_count": 13,
     "metadata": {},
     "output_type": "execute_result"
    }
   ],
   "source": [
    "type(3)"
   ]
  },
  {
   "cell_type": "code",
   "execution_count": 14,
   "metadata": {},
   "outputs": [
    {
     "data": {
      "text/plain": [
       "float"
      ]
     },
     "execution_count": 14,
     "metadata": {},
     "output_type": "execute_result"
    }
   ],
   "source": [
    "type(3.0)"
   ]
  },
  {
   "cell_type": "code",
   "execution_count": 15,
   "metadata": {},
   "outputs": [
    {
     "data": {
      "text/plain": [
       "complex"
      ]
     },
     "execution_count": 15,
     "metadata": {},
     "output_type": "execute_result"
    }
   ],
   "source": [
    "type(1+1j)"
   ]
  },
  {
   "cell_type": "markdown",
   "metadata": {},
   "source": [
    "Tekst String"
   ]
  },
  {
   "cell_type": "code",
   "execution_count": 16,
   "metadata": {},
   "outputs": [
    {
     "data": {
      "text/plain": [
       "str"
      ]
     },
     "execution_count": 16,
     "metadata": {},
     "output_type": "execute_result"
    }
   ],
   "source": [
    "type(\"Tekst\")"
   ]
  },
  {
   "cell_type": "markdown",
   "metadata": {},
   "source": [
    "Typ logiczny (boolean)"
   ]
  },
  {
   "cell_type": "code",
   "execution_count": 18,
   "metadata": {},
   "outputs": [
    {
     "data": {
      "text/plain": [
       "bool"
      ]
     },
     "execution_count": 18,
     "metadata": {},
     "output_type": "execute_result"
    }
   ],
   "source": [
    "type(True)"
   ]
  },
  {
   "cell_type": "code",
   "execution_count": null,
   "metadata": {},
   "outputs": [],
   "source": []
  }
 ],
 "metadata": {
  "kernelspec": {
   "display_name": "Python 3",
   "language": "python",
   "name": "python3"
  },
  "language_info": {
   "codemirror_mode": {
    "name": "ipython",
    "version": 3
   },
   "file_extension": ".py",
   "mimetype": "text/x-python",
   "name": "python",
   "nbconvert_exporter": "python",
   "pygments_lexer": "ipython3",
   "version": "3.7.1"
  }
 },
 "nbformat": 4,
 "nbformat_minor": 2
}

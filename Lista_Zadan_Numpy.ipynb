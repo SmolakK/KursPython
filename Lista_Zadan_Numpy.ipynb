{
 "cells": [
  {
   "cell_type": "code",
   "execution_count": 1,
   "metadata": {},
   "outputs": [],
   "source": [
    "import numpy as np"
   ]
  },
  {
   "cell_type": "markdown",
   "metadata": {},
   "source": [
    "## Zadanie 1:\n",
    "- Stwórz wektor w zakresie -1.3 do 2.5 posiadający równo rozmieszczone 64 elementy\n",
    "- Stwórz wektor o rozmiarze 3n powtarzający ciąg [1,2,3]\n",
    "- Stwórz wektor zaqwierający 10 kolejnych liczb nieparzystych"
   ]
  },
  {
   "cell_type": "code",
   "execution_count": 12,
   "metadata": {},
   "outputs": [
    {
     "name": "stdout",
     "output_type": "stream",
     "text": [
      "[ 1.3         1.31904762  1.33809524  1.35714286  1.37619048  1.3952381\n",
      "  1.41428571  1.43333333  1.45238095  1.47142857  1.49047619  1.50952381\n",
      "  1.52857143  1.54761905  1.56666667  1.58571429  1.6047619   1.62380952\n",
      "  1.64285714  1.66190476  1.68095238  1.7         1.71904762  1.73809524\n",
      "  1.75714286  1.77619048  1.7952381   1.81428571  1.83333333  1.85238095\n",
      "  1.87142857  1.89047619  1.90952381  1.92857143  1.94761905  1.96666667\n",
      "  1.98571429  2.0047619   2.02380952  2.04285714  2.06190476  2.08095238\n",
      "  2.1         2.11904762  2.13809524  2.15714286  2.17619048  2.1952381\n",
      "  2.21428571  2.23333333  2.25238095  2.27142857  2.29047619  2.30952381\n",
      "  2.32857143  2.34761905  2.36666667  2.38571429  2.4047619   2.42380952\n",
      "  2.44285714  2.46190476  2.48095238  2.5       ]\n",
      "[1 2 3 1 2 3 1 2 3]\n"
     ]
    }
   ],
   "source": []
  },
  {
   "cell_type": "markdown",
   "metadata": {},
   "source": [
    "## Zadanie 2:\n",
    "- Używając zadanych wektorów, wykorzystaj funkcję np.dot na kombinacjach wektorXwektor, wektorXmacierz, macierzXmacierz\n",
    "- Sprawdz rozmiary otrzymanych macierzy\n"
   ]
  },
  {
   "cell_type": "code",
   "execution_count": null,
   "metadata": {},
   "outputs": [],
   "source": []
  },
  {
   "cell_type": "markdown",
   "metadata": {},
   "source": [
    "## Zadanie 3\n",
    "- Oblicz sinusy i cosinusy dla 4 wartości w zakresie 0,2*pi\n",
    "- zestaw wynik w postaci macierzy w której pierwszy wiersz to wartości, drugi sinusy, trzeci cosinusy"
   ]
  },
  {
   "cell_type": "code",
   "execution_count": null,
   "metadata": {},
   "outputs": [],
   "source": []
  },
  {
   "cell_type": "markdown",
   "metadata": {},
   "source": [
    "## Zadanie 4\n",
    "- Stwórz macierz liczb losowych o rozmiarze 3x5\n",
    "- Oblicz sumę wszystkich wartości, sumę każdej kolumny, srednią każdego wiersza"
   ]
  },
  {
   "cell_type": "code",
   "execution_count": null,
   "metadata": {},
   "outputs": [],
   "source": []
  },
  {
   "cell_type": "markdown",
   "metadata": {},
   "source": [
    "## Zadanie 5\n",
    "- Oblicz ((A+B)*(-A/2)) nie stosując przypisania (D=A+B) << NIE"
   ]
  },
  {
   "cell_type": "code",
   "execution_count": null,
   "metadata": {},
   "outputs": [],
   "source": []
  },
  {
   "cell_type": "markdown",
   "metadata": {},
   "source": [
    "## Zadanie 6\n",
    "- Stwórz macierz 5x5 każdy wiersz to liczby od 0 do 4"
   ]
  },
  {
   "cell_type": "code",
   "execution_count": null,
   "metadata": {},
   "outputs": [],
   "source": []
  },
  {
   "cell_type": "markdown",
   "metadata": {},
   "source": [
    "## Zadanie 7\n",
    "- Stwórz losową macierz 10x2, reprezentującą współrzędne kartezjańskie x i y\n",
    "- Zamień współrzędne kartezjańskie na biegunowe"
   ]
  },
  {
   "cell_type": "code",
   "execution_count": null,
   "metadata": {},
   "outputs": [],
   "source": []
  },
  {
   "cell_type": "markdown",
   "metadata": {},
   "source": [
    "## Zadanie 8\n",
    "- Stwórz losową macierz 5x10\n",
    "- Odejmij od każdego wiersza wartość średnią dla tego wiersza\n"
   ]
  },
  {
   "cell_type": "code",
   "execution_count": null,
   "metadata": {},
   "outputs": [],
   "source": []
  },
  {
   "cell_type": "markdown",
   "metadata": {},
   "source": [
    "## Zadanie 9\n",
    "- Utwórz losową macierz 5x5 w zakresie liczb od 10 do 25\n",
    "- Znajdź liczbę w macierzy która jest najblliższa liczby 15"
   ]
  },
  {
   "cell_type": "code",
   "execution_count": null,
   "metadata": {},
   "outputs": [],
   "source": []
  },
  {
   "cell_type": "markdown",
   "metadata": {},
   "source": [
    "## Zadanie 10\n",
    "- Stwórz dwie dowolne macierze 5x5\n",
    "- Weź diagonalną iloczynu tych macierzy (2 sposoby)\n",
    "\n",
    "Hint: Diagonalna to suma każdej kolumny powstałej z wymnożenia każdego elementu macierzy A z odpowiadającym elementem transpozycją macierzy B"
   ]
  },
  {
   "cell_type": "code",
   "execution_count": null,
   "metadata": {},
   "outputs": [],
   "source": []
  },
  {
   "cell_type": "markdown",
   "metadata": {},
   "source": [
    "## Zadanie 11\n",
    "- Mając wektor [1,2,3,4,5] rozdziel każdą z liczb dwoma zerami. Wynik [1,0,0,2,0,0,3,....]"
   ]
  },
  {
   "cell_type": "code",
   "execution_count": null,
   "metadata": {},
   "outputs": [],
   "source": []
  },
  {
   "cell_type": "markdown",
   "metadata": {},
   "source": [
    "## Zadanie 12\n",
    "- Stwórz macierz 5x5 zawierającą 25 kolejnych liczb (od 0 do 24)\n",
    "- Zamień miejscami wiersz pierwszy z wierszem trzecim\n",
    "\n",
    "Hint: Weź wycinek zawierający pierwszy i drugi wiersz podmień go na wycinek zawierający drugi i pierwszy wiersz"
   ]
  },
  {
   "cell_type": "code",
   "execution_count": null,
   "metadata": {},
   "outputs": [],
   "source": []
  },
  {
   "cell_type": "markdown",
   "metadata": {},
   "source": [
    "## Zadanie 13\n",
    "- Stwórz macierz losowych elementów o wymiarze 3x100 (uzyj funkcji random.normal(size=(3,100)))\n",
    "- Oblicz średnią i odchylenie standardowe dla każdego wiersza\n",
    "- Dla każdego wiersza, zamień wartości przekraczajace podwójne odchylenie standardowe od średniej na wartość np.nan (Not a number)"
   ]
  },
  {
   "cell_type": "code",
   "execution_count": null,
   "metadata": {},
   "outputs": [],
   "source": []
  },
  {
   "cell_type": "markdown",
   "metadata": {},
   "source": [
    "## Zadanie 14\n",
    "- Stwórz macierz 3x3 zawierającą wartości od 0 do 8 (włącznie)\n",
    "- Odwróc kolejność wierszy\n",
    "- Odwróć kolejność kolumn"
   ]
  },
  {
   "cell_type": "code",
   "execution_count": null,
   "metadata": {},
   "outputs": [],
   "source": []
  }
 ],
 "metadata": {
  "kernelspec": {
   "display_name": "Python 2",
   "language": "python",
   "name": "python2"
  },
  "language_info": {
   "codemirror_mode": {
    "name": "ipython",
    "version": 2
   },
   "file_extension": ".py",
   "mimetype": "text/x-python",
   "name": "python",
   "nbconvert_exporter": "python",
   "pygments_lexer": "ipython2",
   "version": "2.7.14"
  }
 },
 "nbformat": 4,
 "nbformat_minor": 2
}

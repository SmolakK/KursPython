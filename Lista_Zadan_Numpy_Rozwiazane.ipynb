{
 "cells": [
  {
   "cell_type": "code",
   "execution_count": 1,
   "metadata": {},
   "outputs": [],
   "source": [
    "import numpy as np"
   ]
  },
  {
   "cell_type": "markdown",
   "metadata": {},
   "source": [
    "## Zadanie 1:\n",
    "- Stwórz wektor w zakresie -1.3 do 2.5 posiadający równo rozmieszczone 64 elementy\n",
    "- Stwórz wektor o rozmiarze 3n powtarzający ciąg [1,2,3]\n",
    "- Stwórz wektor zaqwierający 10 kolejnych liczb nieparzystych"
   ]
  },
  {
   "cell_type": "code",
   "execution_count": 12,
   "metadata": {},
   "outputs": [
    {
     "name": "stdout",
     "output_type": "stream",
     "text": [
      "[ 1.3         1.31904762  1.33809524  1.35714286  1.37619048  1.3952381\n",
      "  1.41428571  1.43333333  1.45238095  1.47142857  1.49047619  1.50952381\n",
      "  1.52857143  1.54761905  1.56666667  1.58571429  1.6047619   1.62380952\n",
      "  1.64285714  1.66190476  1.68095238  1.7         1.71904762  1.73809524\n",
      "  1.75714286  1.77619048  1.7952381   1.81428571  1.83333333  1.85238095\n",
      "  1.87142857  1.89047619  1.90952381  1.92857143  1.94761905  1.96666667\n",
      "  1.98571429  2.0047619   2.02380952  2.04285714  2.06190476  2.08095238\n",
      "  2.1         2.11904762  2.13809524  2.15714286  2.17619048  2.1952381\n",
      "  2.21428571  2.23333333  2.25238095  2.27142857  2.29047619  2.30952381\n",
      "  2.32857143  2.34761905  2.36666667  2.38571429  2.4047619   2.42380952\n",
      "  2.44285714  2.46190476  2.48095238  2.5       ]\n",
      "[1 2 3 1 2 3 1 2 3]\n"
     ]
    }
   ],
   "source": [
    "a = np.linspace(1.3,2.5,64)\n",
    "print(a)\n",
    "b = np.array([1,2,3])\n",
    "c = np.tile(b,3)\n",
    "print(c)"
   ]
  },
  {
   "cell_type": "markdown",
   "metadata": {},
   "source": [
    "## Zadanie 2:\n",
    "- Używając zadanych wektorów, wykorzystaj funkcję np.dot na kombinacjach wektorXwektor, wektorXmacierz, macierzXmacierz\n",
    "- Sprawdz rozmiary otrzymanych macierzy\n"
   ]
  },
  {
   "cell_type": "code",
   "execution_count": 13,
   "metadata": {},
   "outputs": [],
   "source": [
    "a=np.arange(4)\n",
    "b=np.arange(16).reshape(4,4)"
   ]
  },
  {
   "cell_type": "code",
   "execution_count": 22,
   "metadata": {},
   "outputs": [
    {
     "data": {
      "text/plain": [
       "(14, (), numpy.int32, 0)"
      ]
     },
     "execution_count": 22,
     "metadata": {},
     "output_type": "execute_result"
    }
   ],
   "source": [
    "c=np.dot(a,a)\n",
    "c,c.shape,type(c),c.ndim"
   ]
  },
  {
   "cell_type": "code",
   "execution_count": 24,
   "metadata": {},
   "outputs": [
    {
     "data": {
      "text/plain": [
       "(array([56, 62, 68, 74]), (4L,), numpy.ndarray, 1)"
      ]
     },
     "execution_count": 24,
     "metadata": {},
     "output_type": "execute_result"
    }
   ],
   "source": [
    "c=np.dot(a,b)\n",
    "c,c.shape,type(c),c.ndim"
   ]
  },
  {
   "cell_type": "code",
   "execution_count": 23,
   "metadata": {},
   "outputs": [
    {
     "data": {
      "text/plain": [
       "(array([[ 56,  62,  68,  74],\n",
       "        [152, 174, 196, 218],\n",
       "        [248, 286, 324, 362],\n",
       "        [344, 398, 452, 506]]), (4L, 4L), numpy.ndarray, 2)"
      ]
     },
     "execution_count": 23,
     "metadata": {},
     "output_type": "execute_result"
    }
   ],
   "source": [
    "c=np.dot(b,b)\n",
    "c,c.shape,type(c),c.ndim"
   ]
  },
  {
   "cell_type": "markdown",
   "metadata": {},
   "source": [
    "## Zadanie 3\n",
    "- Oblicz sinusy i cosinusy dla 4 wartości w zakresie 0,2*pi\n",
    "- zestaw wynik w postaci macierzy w której pierwszy wiersz to wartości, drugi sinusy, trzeci cosinusy"
   ]
  },
  {
   "cell_type": "code",
   "execution_count": 36,
   "metadata": {},
   "outputs": [
    {
     "data": {
      "text/plain": [
       "(array([[  0.00000000e+00,   2.09439510e+00,   4.18879020e+00,\n",
       "           6.28318531e+00],\n",
       "        [  0.00000000e+00,   8.66025404e-01,  -8.66025404e-01,\n",
       "          -2.44929360e-16],\n",
       "        [  1.00000000e+00,  -5.00000000e-01,  -5.00000000e-01,\n",
       "           1.00000000e+00]]), (3L, 4L), 2)"
      ]
     },
     "execution_count": 36,
     "metadata": {},
     "output_type": "execute_result"
    }
   ],
   "source": [
    "a = np.linspace(0,2*np.pi,4).reshape(1,-1)\n",
    "b = np.sin(a).reshape(1,-1)\n",
    "c = np.cos(a).reshape(1,-1)\n",
    "\n",
    "d = np.concatenate((a,b,c))\n",
    "d,d.shape,d.ndim\n"
   ]
  },
  {
   "cell_type": "markdown",
   "metadata": {},
   "source": [
    "## Zadanie 4\n",
    "- Stwórz macierz liczb losowych o rozmiarze 3x5\n",
    "- Oblicz sumę wszystkich wartości, sumę każdej kolumny, srednią każdego wiersza"
   ]
  },
  {
   "cell_type": "code",
   "execution_count": 39,
   "metadata": {},
   "outputs": [
    {
     "data": {
      "text/plain": [
       "(7.5401559370108986,\n",
       " array([ 1.07966636,  1.77972814,  1.31310669,  1.82120888,  1.54644587]),\n",
       " array([ 0.42406748,  0.70125449,  0.38270921]))"
      ]
     },
     "execution_count": 39,
     "metadata": {},
     "output_type": "execute_result"
    }
   ],
   "source": [
    "e = np.random.random((3,5))\n",
    "e.sum(),e.sum(axis=0),e.mean(axis=1)"
   ]
  },
  {
   "cell_type": "markdown",
   "metadata": {},
   "source": [
    "## Zadanie 5\n",
    "- Oblicz ((A+B)*(-A/2)) nie stosując przypisania (D=A+B) << NIE"
   ]
  },
  {
   "cell_type": "code",
   "execution_count": 41,
   "metadata": {},
   "outputs": [
    {
     "data": {
      "text/plain": [
       "(array([ 1.,  1.,  1.]), array([ 2.,  2.,  2.]), array([ 3.,  3.,  3.]))"
      ]
     },
     "execution_count": 41,
     "metadata": {},
     "output_type": "execute_result"
    }
   ],
   "source": [
    "A = np.ones(3)*1\n",
    "B = np.ones(3)*2\n",
    "C = np.ones(3)*3\n",
    "A,B,C"
   ]
  },
  {
   "cell_type": "code",
   "execution_count": 42,
   "metadata": {},
   "outputs": [
    {
     "data": {
      "text/plain": [
       "array([-1.5, -1.5, -1.5])"
      ]
     },
     "execution_count": 42,
     "metadata": {},
     "output_type": "execute_result"
    }
   ],
   "source": [
    "np.add(A,B,out=B)\n",
    "np.divide(A,2,out=A)\n",
    "np.negative(A,out=A)\n",
    "np.multiply(A,B,out=A)\n",
    "A"
   ]
  },
  {
   "cell_type": "markdown",
   "metadata": {},
   "source": [
    "## Zadanie 6\n",
    "- Stwórz macierz 5x5 każdy wiersz to liczby od 0 do 4"
   ]
  },
  {
   "cell_type": "code",
   "execution_count": 50,
   "metadata": {},
   "outputs": [
    {
     "data": {
      "text/plain": [
       "array([[ 0.,  1.,  2.,  3.,  4.],\n",
       "       [ 0.,  1.,  2.,  3.,  4.],\n",
       "       [ 0.,  1.,  2.,  3.,  4.],\n",
       "       [ 0.,  1.,  2.,  3.,  4.],\n",
       "       [ 0.,  1.,  2.,  3.,  4.]])"
      ]
     },
     "execution_count": 50,
     "metadata": {},
     "output_type": "execute_result"
    }
   ],
   "source": [
    "a = np.zeros((5,5))\n",
    "a += np.arange(0,5)\n",
    "a"
   ]
  },
  {
   "cell_type": "code",
   "execution_count": 48,
   "metadata": {},
   "outputs": [
    {
     "data": {
      "text/plain": [
       "array([[ 0.,  1.,  2.,  3.,  4.],\n",
       "       [ 0.,  1.,  2.,  3.,  4.],\n",
       "       [ 0.,  1.,  2.,  3.,  4.],\n",
       "       [ 0.,  1.,  2.,  3.,  4.],\n",
       "       [ 0.,  1.,  2.,  3.,  4.]])"
      ]
     },
     "execution_count": 48,
     "metadata": {},
     "output_type": "execute_result"
    }
   ],
   "source": [
    "b = np.arange(0,5.0)\n",
    "np.tile(b,5).reshape(5,-1)"
   ]
  },
  {
   "cell_type": "markdown",
   "metadata": {},
   "source": [
    "## Zadanie 7\n",
    "- Stwórz losową macierz 10x2, reprezentującą współrzędne kartezjańskie x i y\n",
    "- Zamień współrzędne kartezjańskie na biegunowe"
   ]
  },
  {
   "cell_type": "code",
   "execution_count": 51,
   "metadata": {},
   "outputs": [
    {
     "name": "stdout",
     "output_type": "stream",
     "text": [
      "[ 0.9730845   0.39425625  0.59966026  0.62706563  0.45370044  0.62538872\n",
      "  0.98341593  0.44917887  0.8340903   0.78068394]\n",
      "[ 1.38284097  0.32620438  1.23943432  1.32072777  1.09883955  1.3901841\n",
      "  1.22357088  0.63857878  0.54467329  0.94918047]\n"
     ]
    }
   ],
   "source": [
    "Z = np.random.random((10,2))\n",
    "X,Y = Z[:,0], Z[:,1]\n",
    "R = np.sqrt(X**2+Y**2)\n",
    "T = np.arctan2(Y,X)\n",
    "print(R)\n",
    "print(T)"
   ]
  },
  {
   "cell_type": "markdown",
   "metadata": {},
   "source": [
    "## Zadanie 8\n",
    "- Stwórz losową macierz 5x10\n",
    "- Odejmij od każdego wiersza wartość średnią dla tego wiersza\n"
   ]
  },
  {
   "cell_type": "code",
   "execution_count": 55,
   "metadata": {},
   "outputs": [
    {
     "name": "stdout",
     "output_type": "stream",
     "text": [
      "[[-0.34124438  0.4571318  -0.11588742]\n",
      " [-0.02758146 -0.14606361  0.17364507]\n",
      " [-0.14457593 -0.23372406  0.37829999]\n",
      " [-0.19793612 -0.18838619  0.38632231]\n",
      " [ 0.36548263 -0.41011654  0.04463391]]\n"
     ]
    }
   ],
   "source": [
    "X = np.random.rand(5, 3)\n",
    "\n",
    "Y = X - X.mean(axis=1).reshape(-1,1)\n",
    "\n",
    "print(Y)"
   ]
  },
  {
   "cell_type": "markdown",
   "metadata": {},
   "source": [
    "## Zadanie 9\n",
    "- Utwórz losową macierz 5x5 w zakresie liczb od 10 do 25\n",
    "- Znajdź liczbę w macierzy która jest najblliższa liczby 15"
   ]
  },
  {
   "cell_type": "code",
   "execution_count": 93,
   "metadata": {},
   "outputs": [
    {
     "name": "stdout",
     "output_type": "stream",
     "text": [
      "[[ 21.4038828   17.04532828  11.53281074  11.02797505  19.20948984]\n",
      " [ 24.01351093  21.81372596  15.85443913  11.54778699  23.99811131]\n",
      " [ 22.67617473  23.33190861  16.06668249  16.71824776  14.53682778]\n",
      " [ 22.93673522  11.58489722  11.68960242  15.95230428  20.51811351]\n",
      " [ 20.20020475  13.43503178  23.22431552  22.13978028  14.41759416]]\n",
      "(15.952304278256005, 18)\n"
     ]
    }
   ],
   "source": [
    "Z = np.random.uniform(10,25,(5,5))\n",
    "print Z\n",
    "z = 16\n",
    "idx=np.abs(Z - z).argmin()\n",
    "print(Z.flat[idx],idx)"
   ]
  },
  {
   "cell_type": "code",
   "execution_count": 100,
   "metadata": {},
   "outputs": [
    {
     "name": "stdout",
     "output_type": "stream",
     "text": [
      "(3, 3)\n",
      "(15.952304278256005, (3, 3))\n"
     ]
    }
   ],
   "source": [
    "idx=np.unravel_index(np.abs(Z - z).argmin(), a.shape)\n",
    "print(idx)\n",
    "print(Z[idx],idx)"
   ]
  },
  {
   "cell_type": "markdown",
   "metadata": {},
   "source": [
    "## Zadanie 10\n",
    "- Stwórz dwie dowolne macierze 5x5\n",
    "- Weź diagonalną iloczynu tych macierzy (2 sposoby)\n",
    "\n",
    "Hint: Diagonalna to suma każdej kolumny powstałej z wymnożenia każdego elementu macierzy A z odpowiadającym elementem transpozycją macierzy B"
   ]
  },
  {
   "cell_type": "code",
   "execution_count": 108,
   "metadata": {},
   "outputs": [
    {
     "name": "stdout",
     "output_type": "stream",
     "text": [
      "[ 1.22118353  1.13889109  1.0781185   1.19470721  0.86761369]\n",
      "[ 1.22118353  1.13889109  1.0781185   1.19470721  0.86761369]\n"
     ]
    }
   ],
   "source": [
    "a = np.random.uniform(0,1,(5,5))\n",
    "b = np.random.uniform(0,1,(5,5))\n",
    "\n",
    "print(np.diag(np.dot(a,b)))\n",
    "print(np.sum(a*b.T,axis=1))"
   ]
  },
  {
   "cell_type": "markdown",
   "metadata": {},
   "source": [
    "## Zadanie 11\n",
    "- Mając wektor [1,2,3,4,5] rozdziel każdą z liczb dwoma zerami. Wynik [1,0,0,2,0,0,3,....]"
   ]
  },
  {
   "cell_type": "code",
   "execution_count": 127,
   "metadata": {},
   "outputs": [
    {
     "name": "stdout",
     "output_type": "stream",
     "text": [
      "[ 0.  0.  0.  0.  0.  0.  0.  0.  0.  0.  0.  0.  0.]\n",
      "[ 1.  0.  0.  2.  0.  0.  3.  0.  0.  4.  0.  0.  5.]\n"
     ]
    }
   ],
   "source": [
    "Z = np.array([1,2,3,4,5])\n",
    "\n",
    "number_of_zeros = 2\n",
    "Z0 = np.zeros(len(Z) + (len(Z)-1)*number_of_zeros)\n",
    "print(Z0)\n",
    "Z0[::number_of_zeros+1] = Z\n",
    "print(Z0)"
   ]
  },
  {
   "cell_type": "markdown",
   "metadata": {},
   "source": [
    "## Zadanie 12\n",
    "- Stwórz macierz 5x5 zawierającą 25 kolejnych liczb (od 0 do 24)\n",
    "- Zamień miejscami wiersz pierwszy z wierszem drugim\n",
    "\n",
    "Hint: Weź wycinek zawierający pierwszy i drugi wiersz podmień go na wycinek zawierający drugi i pierwszy wiersz"
   ]
  },
  {
   "cell_type": "code",
   "execution_count": 129,
   "metadata": {},
   "outputs": [
    {
     "name": "stdout",
     "output_type": "stream",
     "text": [
      "[[ 5  6  7  8  9]\n",
      " [ 0  1  2  3  4]\n",
      " [10 11 12 13 14]\n",
      " [15 16 17 18 19]\n",
      " [20 21 22 23 24]]\n"
     ]
    }
   ],
   "source": [
    "A = np.arange(25).reshape(5,5)\n",
    "A[[0,1]] = A[[1,0]]\n",
    "print(A)"
   ]
  },
  {
   "cell_type": "markdown",
   "metadata": {},
   "source": [
    "## Zadanie 13\n",
    "- Stwórz macierz losowych elementów o wymiarze 3x100 (uzyj funkcji random.normal(size=(3,100)))\n",
    "- Oblicz średnią i odchylenie standardowe dla każdego wiersza\n",
    "- Dla każdego wiersza, zamień wartości przekraczajace podwójne odchylenie standardowe od średniej na wartość np.nan (Not a number)"
   ]
  },
  {
   "cell_type": "code",
   "execution_count": 191,
   "metadata": {},
   "outputs": [
    {
     "name": "stdout",
     "output_type": "stream",
     "text": [
      "(array([ 0.15717978, -0.00943171, -0.14547075]), array([ 0.99488987,  1.17885941,  1.04587554]))\n",
      "[[ 1.35051494 -0.01754766  0.629379   -0.23249355 -1.23883401  0.81623711\n",
      "   0.1157526   1.84400053  0.65621283  0.09706056  1.20527898  0.50702449\n",
      "  -0.75996054 -0.49848112 -1.78990245 -0.36737415  0.61045811         nan\n",
      "   0.09802065 -0.68563684  0.5503347  -1.52750305 -0.34649527  0.20311894\n",
      "  -0.4154317  -0.70220651         nan  0.16486037  0.13978745         nan\n",
      "  -1.18011171  0.28612451 -1.31513247  0.32481438  0.45780961  1.8065004\n",
      "   1.4974827  -1.58879186  1.29280056  0.27035553 -0.75753222 -0.19543917\n",
      "  -0.07674109 -0.13897471  0.89062121 -0.17947683 -0.27281753 -0.48547609\n",
      "          nan  0.76953791  0.17414469  0.53899778 -0.3661615   1.51866884\n",
      "   0.38525139  0.92377962  0.25292912 -0.19249354 -1.78519846 -0.38208563\n",
      "  -0.62432711 -0.08559067  0.64977071 -0.21691119  0.35416959  0.81212468\n",
      "   1.31635557 -1.17392047 -1.13355292 -0.63627242  0.13060563 -0.39453024\n",
      "   0.98075137  0.25703125 -0.4392942   1.77903559  0.2852156  -0.87078912\n",
      "  -0.005241   -0.14019613  0.49572307  1.01144885         nan  0.20232465\n",
      "   0.6761884  -0.74507975  0.83788407 -1.04479859  0.64152951  0.0520809\n",
      "   0.0873937   1.21584934  0.13632949  1.18759103  0.72061565  0.26997074\n",
      "  -0.97475956 -0.39827482 -1.13886125  0.32016196]\n",
      " [ 0.54244134  0.76894906 -0.22442046 -0.34524888 -1.31997405  1.70326009\n",
      "  -0.654364   -1.1501678   0.69191605  0.47199455 -1.28426234 -0.75021993\n",
      "  -0.85856162  1.09161838 -0.96778418 -0.12013962  0.71973948  0.23401764\n",
      "  -0.28912185  0.00773545         nan  1.59978412  2.04510083  0.90010648\n",
      "  -1.20993685 -0.41331937  0.21132302 -0.99534348 -0.50925564 -1.51829345\n",
      "   0.70329543 -0.4684817  -1.00775369  0.52623986  1.29262308  0.85442591\n",
      "   0.09953439  0.83828361 -1.36357224 -0.58562268  1.16731261  1.66106365\n",
      "  -0.02064969  1.39730052 -0.17730399  1.69687415 -0.41764086  1.27059208\n",
      "  -1.09714398 -1.25886852 -0.11470299         nan  1.51371361         nan\n",
      "  -1.2829967   0.02368648 -0.24288448  0.22006504  0.91680897         nan\n",
      "  -0.05115318 -2.04526716 -0.74965541 -0.56041304 -2.00204288 -0.0668619\n",
      "   0.7012658   0.46008731  1.01840784 -1.02483505  1.73682863  0.47366133\n",
      "   1.81734446  0.10594658 -0.23267603 -0.36941597         nan  0.11606621\n",
      "   0.93769518 -1.92178363  0.33655498 -0.26081919 -1.34810394 -0.61154669\n",
      "   0.71686354 -0.26615227  0.84468717 -1.07020133 -0.32085086 -0.35563755\n",
      "  -0.940289    1.17789706 -0.75545964 -2.27703131  0.86971454 -0.28971469\n",
      "  -0.67174347  1.0182568  -1.46879247 -1.88445621]\n",
      " [-1.11617531  0.54694991 -1.42781733  0.459554    0.60130567 -1.76361943\n",
      "   0.11223069 -1.13003408  0.44972982  0.43783365  0.17423594  0.82318666\n",
      "   0.69575325         nan -1.04930575  1.58485662  0.11639333 -1.48925557\n",
      "  -0.25500274         nan -0.29613159  0.2275604  -0.52568102  0.91872654\n",
      "   1.3358934   0.86866793  1.05658383  0.92482675  1.40711418         nan\n",
      "   0.08472225  0.0546628  -0.73864558  0.13388174  1.21129051 -1.50049504\n",
      "   1.91818128 -0.85751629 -1.44813438  1.02019336  0.31093942 -1.13151802\n",
      "  -1.06149054  0.31603171 -0.53002162 -0.60756109  1.01225363  0.35100416\n",
      "          nan -0.76589582 -1.0887803  -0.75223917 -0.03119275  0.15412829\n",
      "  -0.44287873  0.06469671 -1.42522954 -0.20135188 -0.29619563 -1.37494117\n",
      "   0.09713208 -0.47532841 -0.02863266  1.72945668         nan -1.13170259\n",
      "   0.52029707  1.23642245  1.34952192  0.05540765 -0.04554387 -1.13623099\n",
      "   0.29571655         nan -1.50381688  0.05894369  0.26453079 -0.47789419\n",
      "   0.1000263   0.12282936 -0.29895826 -1.76544099  0.17092749 -0.80604974\n",
      "   0.23994418  0.43175781  0.02296783  1.36929033  0.06565353  1.21062278\n",
      "  -0.05334524 -0.89528155 -0.82093681  0.47331887 -0.5103336   0.62444598\n",
      "  -0.66593459  0.04482977  1.80001749 -1.86679417]]\n"
     ]
    }
   ],
   "source": [
    "Z = np.random.normal(size=(3,100))\n",
    "\n",
    "means = Z.mean(axis=1)\n",
    "stds = Z.std(axis=1)\n",
    "\n",
    "print(means,stds)\n",
    "\n",
    "for i,row in enumerate(Z):\n",
    "    x = np.argwhere((row<means[i]-2*stds[i])|(row>means[i]+2*stds[i])) #indexy wartości przekraczającyh zakres\n",
    "    row[x]=np.nan\n",
    "    Z[i]=row\n",
    "    \n",
    "print(Z)"
   ]
  },
  {
   "cell_type": "markdown",
   "metadata": {},
   "source": [
    "## Zadanie 14\n",
    "- Stwórz macierz 3x3 zawierającą wartości od 0 do 8 (włącznie)\n",
    "- Odwróc kolejność wierszy\n",
    "- Odwróć kolejność kolumn"
   ]
  },
  {
   "cell_type": "code",
   "execution_count": 197,
   "metadata": {},
   "outputs": [
    {
     "name": "stdout",
     "output_type": "stream",
     "text": [
      "[[6 7 8]\n",
      " [3 4 5]\n",
      " [0 1 2]]\n",
      "[[2 1 0]\n",
      " [5 4 3]\n",
      " [8 7 6]]\n"
     ]
    }
   ],
   "source": [
    "a = np.arange(0,9).reshape(3,3)\n",
    "\n",
    "b = a[::-1]\n",
    "print(b)\n",
    "c = a[:,::-1]\n",
    "print(c)"
   ]
  }
 ],
 "metadata": {
  "kernelspec": {
   "display_name": "Python 2",
   "language": "python",
   "name": "python2"
  },
  "language_info": {
   "codemirror_mode": {
    "name": "ipython",
    "version": 2
   },
   "file_extension": ".py",
   "mimetype": "text/x-python",
   "name": "python",
   "nbconvert_exporter": "python",
   "pygments_lexer": "ipython2",
   "version": "2.7.14"
  }
 },
 "nbformat": 4,
 "nbformat_minor": 2
}
